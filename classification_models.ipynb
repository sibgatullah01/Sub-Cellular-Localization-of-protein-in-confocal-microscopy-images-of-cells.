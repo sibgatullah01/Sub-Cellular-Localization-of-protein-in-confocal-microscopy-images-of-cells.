{
  "cells": [
    {
      "cell_type": "code",
      "execution_count": null,
      "metadata": {
        "id": "cuDh2ClsGywM"
      },
      "outputs": [],
      "source": [
        "import numpy as np\n",
        "import pandas as pd\n",
        "import matplotlib.pyplot as plt\n",
        "import random\n",
        "import cv2\n",
        "from PIL import Image\n",
        "import seaborn as sns\n",
        "import tensorflow as tf\n",
        "from tensorflow.keras import callbacks\n",
        "from tensorflow.keras.models import Model, Sequential;\n",
        "from tensorflow.keras.layers import Input, Activation,GlobalAveragePooling2D,TimeDistributed, GlobalAveragePooling1D,Add, BatchNormalization, Flatten, Dense, Conv2D, MaxPool2D , Flatten, Dropout, concatenate, ReLU\n",
        "from tensorflow.keras.layers import Conv2D, MaxPooling2D\n",
        "from tensorflow.keras.utils import plot_model, to_categorical\n",
        "from tensorflow.keras import activations\n",
        "from tensorflow.keras.preprocessing.image import ImageDataGenerator\n",
        "from tensorflow.keras.optimizers import Adam, SGD\n",
        "from imblearn.over_sampling import RandomOverSampler\n",
        "import tensorflow.keras.backend as K\n",
        "from tensorflow.keras.applications import ResNet50, ResNet50V2, DenseNet201, DenseNet169\n",
        "from keras.applications.vgg16 import VGG16\n",
        "tf.config.run_functions_eagerly(True)"
      ]
    },
    {
      "cell_type": "code",
      "execution_count": null,
      "metadata": {
        "id": "CE1OllMPc4dA"
      },
      "outputs": [],
      "source": [
        "K.clear_session()\n",
        "import gc\n",
        "\n",
        "# Returns the number of\n",
        "# objects it has collected\n",
        "# and deallocated\n",
        "collected = gc.collect()"
      ]
    },
    {
      "cell_type": "code",
      "source": [
        "tf.__version__"
      ],
      "metadata": {
        "colab": {
          "base_uri": "https://localhost:8080/"
        },
        "id": "zNT7tvC5PQOR",
        "outputId": "41a5e125-7996-487a-cb1a-f8f13f93c6fa"
      },
      "execution_count": null,
      "outputs": [
        {
          "output_type": "execute_result",
          "data": {
            "text/plain": [
              "'2.16.1'"
            ]
          },
          "metadata": {},
          "execution_count": 62
        }
      ]
    },
    {
      "cell_type": "code",
      "execution_count": null,
      "metadata": {
        "colab": {
          "base_uri": "https://localhost:8080/"
        },
        "id": "cO6DeknnWcXc",
        "outputId": "cfdcb0d9-6d39-4a16-aca3-58e0a7ea0bca"
      },
      "outputs": [
        {
          "output_type": "stream",
          "name": "stdout",
          "text": [
            "Mounted at /content/drive\n"
          ]
        }
      ],
      "source": [
        "from google.colab import drive\n",
        "drive.mount('/content/drive')"
      ]
    },
    {
      "cell_type": "code",
      "execution_count": null,
      "metadata": {
        "id": "l6Rm7Nq6WweX"
      },
      "outputs": [],
      "source": [
        "random.seed(10)\n",
        "tf.random.set_seed(10)\n"
      ]
    },
    {
      "cell_type": "code",
      "execution_count": null,
      "metadata": {
        "colab": {
          "base_uri": "https://localhost:8080/",
          "height": 108
        },
        "id": "FNJ3xCDpatS_",
        "outputId": "69042f9f-1a19-47c3-f17c-c16faed2be18"
      },
      "outputs": [
        {
          "output_type": "stream",
          "name": "stdout",
          "text": [
            "Device mapping:\n",
            "/job:localhost/replica:0/task:0/device:GPU:0 -> device: 0, name: Tesla T4, pci bus id: 0000:00:04.0, compute capability: 7.5\n",
            "\n"
          ]
        },
        {
          "output_type": "execute_result",
          "data": {
            "text/plain": [
              "'/device:GPU:0'"
            ],
            "application/vnd.google.colaboratory.intrinsic+json": {
              "type": "string"
            }
          },
          "metadata": {},
          "execution_count": 4
        }
      ],
      "source": [
        "sess = tf.compat.v1.Session(config=tf.compat.v1.ConfigProto(log_device_placement=True))\n",
        "tf.test.gpu_device_name()"
      ]
    },
    {
      "cell_type": "code",
      "execution_count": null,
      "metadata": {
        "id": "tVawMP20xSNP"
      },
      "outputs": [],
      "source": [
        "X_train1 = np.load('/content/drive/MyDrive/data/X_train_1.npy', mmap_mode = 'r')\n",
        "X_train2 = np.load('/content/drive/MyDrive/data/X_train_2.npy', mmap_mode = 'r')\n",
        "X_train3 = np.load('/content/drive/MyDrive/data/X_train_3.npy', mmap_mode = 'r')\n",
        "X_train4 = np.load('/content/drive/MyDrive/data/X_train_4.npy', mmap_mode = 'r')\n",
        "X_train5 = np.load('/content/drive/MyDrive/data/X_train_5.npy', mmap_mode = 'r')\n",
        "X_train6 = np.load('/content/drive/MyDrive/data/X_train_6.npy', mmap_mode = 'r')\n",
        "y_train1 = pd.read_csv('/content/drive/MyDrive/data/y_train1.csv')\n",
        "y_train2 = pd.read_csv('/content/drive/MyDrive/data/y_train2.csv')\n",
        "y_train3 = pd.read_csv('/content/drive/MyDrive/data/y_train3.csv')\n",
        "y_train4 = pd.read_csv('/content/drive/MyDrive/data/y_train4.csv')\n",
        "y_train5 = pd.read_csv('/content/drive/MyDrive/data/y_train5.csv')\n",
        "y_train6 = pd.read_csv('/content/drive/MyDrive/data/y_train6.csv')\n",
        "X_test1 = np.load('/content/drive/MyDrive/data/X_test_0.npy', mmap_mode = 'r')\n",
        "X_test2 = np.load('/content/drive/MyDrive/data/X_test_1.npy', mmap_mode = 'r')\n",
        "X_test3 = np.load('/content/drive/MyDrive/data/X_test_2.npy', mmap_mode = 'r')\n",
        "X_test4 = np.load('/content/drive/MyDrive/data/X_test_3.npy', mmap_mode = 'r')\n",
        "X_test5 = np.load('/content/drive/MyDrive/data/X_test_4.npy', mmap_mode = 'r')\n",
        "X_test6 = np.load('/content/drive/MyDrive/data/X_test_5.npy', mmap_mode = 'r')\n",
        "y_test1 =pd.read_csv('/content/drive/MyDrive/data/y_test0.csv')\n",
        "y_test2 =pd.read_csv('/content/drive/MyDrive/data/y_test1.csv')\n",
        "y_test3 =pd.read_csv('/content/drive/MyDrive/data/y_test2.csv')\n",
        "y_test4 =pd.read_csv('/content/drive/MyDrive/data/y_test3.csv')\n",
        "y_test5 =pd.read_csv('/content/drive/MyDrive/data/y_test4.csv')\n",
        "y_test6 =pd.read_csv('/content/drive/MyDrive/data/y_test5.csv')\n",
        "X_val1 = np.load('/content/drive/MyDrive/data/X_val_0.npy', mmap_mode = 'r')\n",
        "X_val2 = np.load('/content/drive/MyDrive/data/X_val_1.npy', mmap_mode = 'r')\n",
        "X_val3 = np.load('/content/drive/MyDrive/data/X_val_2.npy', mmap_mode = 'r')\n",
        "X_val4 = np.load('/content/drive/MyDrive/data/X_val_3.npy', mmap_mode = 'r')\n",
        "X_val5 = np.load('/content/drive/MyDrive/data/X_val_4.npy', mmap_mode = 'r')\n",
        "X_val6 = np.load('/content/drive/MyDrive/data/X_val_5.npy', mmap_mode = 'r')\n",
        "y_val1 =pd.read_csv('/content/drive/MyDrive/data/y_val0.csv' )\n",
        "y_val2 =pd.read_csv('/content/drive/MyDrive/data/y_val1.csv' )\n",
        "y_val3 =pd.read_csv('/content/drive/MyDrive/data/y_val2.csv' )\n",
        "y_val4 =pd.read_csv('/content/drive/MyDrive/data/y_val3.csv' )\n",
        "y_val5 =pd.read_csv('/content/drive/MyDrive/data/y_val4.csv' )\n",
        "y_val6 =pd.read_csv('/content/drive/MyDrive/data/y_val5.csv' )"
      ]
    },
    {
      "cell_type": "code",
      "execution_count": null,
      "metadata": {
        "colab": {
          "base_uri": "https://localhost:8080/",
          "height": 423
        },
        "id": "PoSkNONU01iS",
        "outputId": "0bf1e151-d608-45f8-9d34-8956fd06a58e"
      },
      "outputs": [
        {
          "output_type": "execute_result",
          "data": {
            "text/plain": [
              "       Unnamed: 0                                       ID  label\n",
              "0               0  000a9596-bbc4-11e8-b2bc-ac1f6b6435d0._0      5\n",
              "1               1  000a9596-bbc4-11e8-b2bc-ac1f6b6435d0._1      5\n",
              "2               2  000a9596-bbc4-11e8-b2bc-ac1f6b6435d0._2      5\n",
              "3               3  000a9596-bbc4-11e8-b2bc-ac1f6b6435d0._3      5\n",
              "4               4  000a9596-bbc4-11e8-b2bc-ac1f6b6435d0._4      5\n",
              "...           ...                                      ...    ...\n",
              "10195       10195  8e35fb82-bbc7-11e8-b2bc-ac1f6b6435d0._5      8\n",
              "10196       10196  8e35fb82-bbc7-11e8-b2bc-ac1f6b6435d0._6      8\n",
              "10197       10197  8e35fb82-bbc7-11e8-b2bc-ac1f6b6435d0._7      8\n",
              "10198       10198  8e35fb82-bbc7-11e8-b2bc-ac1f6b6435d0._8      8\n",
              "10199       10199  8e35fb82-bbc7-11e8-b2bc-ac1f6b6435d0._9      8\n",
              "\n",
              "[60092 rows x 3 columns]"
            ],
            "text/html": [
              "\n",
              "  <div id=\"df-9d57070f-86b0-4dc1-8a03-dcc7c3c9567d\" class=\"colab-df-container\">\n",
              "    <div>\n",
              "<style scoped>\n",
              "    .dataframe tbody tr th:only-of-type {\n",
              "        vertical-align: middle;\n",
              "    }\n",
              "\n",
              "    .dataframe tbody tr th {\n",
              "        vertical-align: top;\n",
              "    }\n",
              "\n",
              "    .dataframe thead th {\n",
              "        text-align: right;\n",
              "    }\n",
              "</style>\n",
              "<table border=\"1\" class=\"dataframe\">\n",
              "  <thead>\n",
              "    <tr style=\"text-align: right;\">\n",
              "      <th></th>\n",
              "      <th>Unnamed: 0</th>\n",
              "      <th>ID</th>\n",
              "      <th>label</th>\n",
              "    </tr>\n",
              "  </thead>\n",
              "  <tbody>\n",
              "    <tr>\n",
              "      <th>0</th>\n",
              "      <td>0</td>\n",
              "      <td>000a9596-bbc4-11e8-b2bc-ac1f6b6435d0._0</td>\n",
              "      <td>5</td>\n",
              "    </tr>\n",
              "    <tr>\n",
              "      <th>1</th>\n",
              "      <td>1</td>\n",
              "      <td>000a9596-bbc4-11e8-b2bc-ac1f6b6435d0._1</td>\n",
              "      <td>5</td>\n",
              "    </tr>\n",
              "    <tr>\n",
              "      <th>2</th>\n",
              "      <td>2</td>\n",
              "      <td>000a9596-bbc4-11e8-b2bc-ac1f6b6435d0._2</td>\n",
              "      <td>5</td>\n",
              "    </tr>\n",
              "    <tr>\n",
              "      <th>3</th>\n",
              "      <td>3</td>\n",
              "      <td>000a9596-bbc4-11e8-b2bc-ac1f6b6435d0._3</td>\n",
              "      <td>5</td>\n",
              "    </tr>\n",
              "    <tr>\n",
              "      <th>4</th>\n",
              "      <td>4</td>\n",
              "      <td>000a9596-bbc4-11e8-b2bc-ac1f6b6435d0._4</td>\n",
              "      <td>5</td>\n",
              "    </tr>\n",
              "    <tr>\n",
              "      <th>...</th>\n",
              "      <td>...</td>\n",
              "      <td>...</td>\n",
              "      <td>...</td>\n",
              "    </tr>\n",
              "    <tr>\n",
              "      <th>10195</th>\n",
              "      <td>10195</td>\n",
              "      <td>8e35fb82-bbc7-11e8-b2bc-ac1f6b6435d0._5</td>\n",
              "      <td>8</td>\n",
              "    </tr>\n",
              "    <tr>\n",
              "      <th>10196</th>\n",
              "      <td>10196</td>\n",
              "      <td>8e35fb82-bbc7-11e8-b2bc-ac1f6b6435d0._6</td>\n",
              "      <td>8</td>\n",
              "    </tr>\n",
              "    <tr>\n",
              "      <th>10197</th>\n",
              "      <td>10197</td>\n",
              "      <td>8e35fb82-bbc7-11e8-b2bc-ac1f6b6435d0._7</td>\n",
              "      <td>8</td>\n",
              "    </tr>\n",
              "    <tr>\n",
              "      <th>10198</th>\n",
              "      <td>10198</td>\n",
              "      <td>8e35fb82-bbc7-11e8-b2bc-ac1f6b6435d0._8</td>\n",
              "      <td>8</td>\n",
              "    </tr>\n",
              "    <tr>\n",
              "      <th>10199</th>\n",
              "      <td>10199</td>\n",
              "      <td>8e35fb82-bbc7-11e8-b2bc-ac1f6b6435d0._9</td>\n",
              "      <td>8</td>\n",
              "    </tr>\n",
              "  </tbody>\n",
              "</table>\n",
              "<p>60092 rows × 3 columns</p>\n",
              "</div>\n",
              "    <div class=\"colab-df-buttons\">\n",
              "\n",
              "  <div class=\"colab-df-container\">\n",
              "    <button class=\"colab-df-convert\" onclick=\"convertToInteractive('df-9d57070f-86b0-4dc1-8a03-dcc7c3c9567d')\"\n",
              "            title=\"Convert this dataframe to an interactive table.\"\n",
              "            style=\"display:none;\">\n",
              "\n",
              "  <svg xmlns=\"http://www.w3.org/2000/svg\" height=\"24px\" viewBox=\"0 -960 960 960\">\n",
              "    <path d=\"M120-120v-720h720v720H120Zm60-500h600v-160H180v160Zm220 220h160v-160H400v160Zm0 220h160v-160H400v160ZM180-400h160v-160H180v160Zm440 0h160v-160H620v160ZM180-180h160v-160H180v160Zm440 0h160v-160H620v160Z\"/>\n",
              "  </svg>\n",
              "    </button>\n",
              "\n",
              "  <style>\n",
              "    .colab-df-container {\n",
              "      display:flex;\n",
              "      gap: 12px;\n",
              "    }\n",
              "\n",
              "    .colab-df-convert {\n",
              "      background-color: #E8F0FE;\n",
              "      border: none;\n",
              "      border-radius: 50%;\n",
              "      cursor: pointer;\n",
              "      display: none;\n",
              "      fill: #1967D2;\n",
              "      height: 32px;\n",
              "      padding: 0 0 0 0;\n",
              "      width: 32px;\n",
              "    }\n",
              "\n",
              "    .colab-df-convert:hover {\n",
              "      background-color: #E2EBFA;\n",
              "      box-shadow: 0px 1px 2px rgba(60, 64, 67, 0.3), 0px 1px 3px 1px rgba(60, 64, 67, 0.15);\n",
              "      fill: #174EA6;\n",
              "    }\n",
              "\n",
              "    .colab-df-buttons div {\n",
              "      margin-bottom: 4px;\n",
              "    }\n",
              "\n",
              "    [theme=dark] .colab-df-convert {\n",
              "      background-color: #3B4455;\n",
              "      fill: #D2E3FC;\n",
              "    }\n",
              "\n",
              "    [theme=dark] .colab-df-convert:hover {\n",
              "      background-color: #434B5C;\n",
              "      box-shadow: 0px 1px 3px 1px rgba(0, 0, 0, 0.15);\n",
              "      filter: drop-shadow(0px 1px 2px rgba(0, 0, 0, 0.3));\n",
              "      fill: #FFFFFF;\n",
              "    }\n",
              "  </style>\n",
              "\n",
              "    <script>\n",
              "      const buttonEl =\n",
              "        document.querySelector('#df-9d57070f-86b0-4dc1-8a03-dcc7c3c9567d button.colab-df-convert');\n",
              "      buttonEl.style.display =\n",
              "        google.colab.kernel.accessAllowed ? 'block' : 'none';\n",
              "\n",
              "      async function convertToInteractive(key) {\n",
              "        const element = document.querySelector('#df-9d57070f-86b0-4dc1-8a03-dcc7c3c9567d');\n",
              "        const dataTable =\n",
              "          await google.colab.kernel.invokeFunction('convertToInteractive',\n",
              "                                                    [key], {});\n",
              "        if (!dataTable) return;\n",
              "\n",
              "        const docLinkHtml = 'Like what you see? Visit the ' +\n",
              "          '<a target=\"_blank\" href=https://colab.research.google.com/notebooks/data_table.ipynb>data table notebook</a>'\n",
              "          + ' to learn more about interactive tables.';\n",
              "        element.innerHTML = '';\n",
              "        dataTable['output_type'] = 'display_data';\n",
              "        await google.colab.output.renderOutput(dataTable, element);\n",
              "        const docLink = document.createElement('div');\n",
              "        docLink.innerHTML = docLinkHtml;\n",
              "        element.appendChild(docLink);\n",
              "      }\n",
              "    </script>\n",
              "  </div>\n",
              "\n",
              "\n",
              "<div id=\"df-bd7a152e-b359-4023-a4d6-c3709298f4c7\">\n",
              "  <button class=\"colab-df-quickchart\" onclick=\"quickchart('df-bd7a152e-b359-4023-a4d6-c3709298f4c7')\"\n",
              "            title=\"Suggest charts\"\n",
              "            style=\"display:none;\">\n",
              "\n",
              "<svg xmlns=\"http://www.w3.org/2000/svg\" height=\"24px\"viewBox=\"0 0 24 24\"\n",
              "     width=\"24px\">\n",
              "    <g>\n",
              "        <path d=\"M19 3H5c-1.1 0-2 .9-2 2v14c0 1.1.9 2 2 2h14c1.1 0 2-.9 2-2V5c0-1.1-.9-2-2-2zM9 17H7v-7h2v7zm4 0h-2V7h2v10zm4 0h-2v-4h2v4z\"/>\n",
              "    </g>\n",
              "</svg>\n",
              "  </button>\n",
              "\n",
              "<style>\n",
              "  .colab-df-quickchart {\n",
              "      --bg-color: #E8F0FE;\n",
              "      --fill-color: #1967D2;\n",
              "      --hover-bg-color: #E2EBFA;\n",
              "      --hover-fill-color: #174EA6;\n",
              "      --disabled-fill-color: #AAA;\n",
              "      --disabled-bg-color: #DDD;\n",
              "  }\n",
              "\n",
              "  [theme=dark] .colab-df-quickchart {\n",
              "      --bg-color: #3B4455;\n",
              "      --fill-color: #D2E3FC;\n",
              "      --hover-bg-color: #434B5C;\n",
              "      --hover-fill-color: #FFFFFF;\n",
              "      --disabled-bg-color: #3B4455;\n",
              "      --disabled-fill-color: #666;\n",
              "  }\n",
              "\n",
              "  .colab-df-quickchart {\n",
              "    background-color: var(--bg-color);\n",
              "    border: none;\n",
              "    border-radius: 50%;\n",
              "    cursor: pointer;\n",
              "    display: none;\n",
              "    fill: var(--fill-color);\n",
              "    height: 32px;\n",
              "    padding: 0;\n",
              "    width: 32px;\n",
              "  }\n",
              "\n",
              "  .colab-df-quickchart:hover {\n",
              "    background-color: var(--hover-bg-color);\n",
              "    box-shadow: 0 1px 2px rgba(60, 64, 67, 0.3), 0 1px 3px 1px rgba(60, 64, 67, 0.15);\n",
              "    fill: var(--button-hover-fill-color);\n",
              "  }\n",
              "\n",
              "  .colab-df-quickchart-complete:disabled,\n",
              "  .colab-df-quickchart-complete:disabled:hover {\n",
              "    background-color: var(--disabled-bg-color);\n",
              "    fill: var(--disabled-fill-color);\n",
              "    box-shadow: none;\n",
              "  }\n",
              "\n",
              "  .colab-df-spinner {\n",
              "    border: 2px solid var(--fill-color);\n",
              "    border-color: transparent;\n",
              "    border-bottom-color: var(--fill-color);\n",
              "    animation:\n",
              "      spin 1s steps(1) infinite;\n",
              "  }\n",
              "\n",
              "  @keyframes spin {\n",
              "    0% {\n",
              "      border-color: transparent;\n",
              "      border-bottom-color: var(--fill-color);\n",
              "      border-left-color: var(--fill-color);\n",
              "    }\n",
              "    20% {\n",
              "      border-color: transparent;\n",
              "      border-left-color: var(--fill-color);\n",
              "      border-top-color: var(--fill-color);\n",
              "    }\n",
              "    30% {\n",
              "      border-color: transparent;\n",
              "      border-left-color: var(--fill-color);\n",
              "      border-top-color: var(--fill-color);\n",
              "      border-right-color: var(--fill-color);\n",
              "    }\n",
              "    40% {\n",
              "      border-color: transparent;\n",
              "      border-right-color: var(--fill-color);\n",
              "      border-top-color: var(--fill-color);\n",
              "    }\n",
              "    60% {\n",
              "      border-color: transparent;\n",
              "      border-right-color: var(--fill-color);\n",
              "    }\n",
              "    80% {\n",
              "      border-color: transparent;\n",
              "      border-right-color: var(--fill-color);\n",
              "      border-bottom-color: var(--fill-color);\n",
              "    }\n",
              "    90% {\n",
              "      border-color: transparent;\n",
              "      border-bottom-color: var(--fill-color);\n",
              "    }\n",
              "  }\n",
              "</style>\n",
              "\n",
              "  <script>\n",
              "    async function quickchart(key) {\n",
              "      const quickchartButtonEl =\n",
              "        document.querySelector('#' + key + ' button');\n",
              "      quickchartButtonEl.disabled = true;  // To prevent multiple clicks.\n",
              "      quickchartButtonEl.classList.add('colab-df-spinner');\n",
              "      try {\n",
              "        const charts = await google.colab.kernel.invokeFunction(\n",
              "            'suggestCharts', [key], {});\n",
              "      } catch (error) {\n",
              "        console.error('Error during call to suggestCharts:', error);\n",
              "      }\n",
              "      quickchartButtonEl.classList.remove('colab-df-spinner');\n",
              "      quickchartButtonEl.classList.add('colab-df-quickchart-complete');\n",
              "    }\n",
              "    (() => {\n",
              "      let quickchartButtonEl =\n",
              "        document.querySelector('#df-bd7a152e-b359-4023-a4d6-c3709298f4c7 button');\n",
              "      quickchartButtonEl.style.display =\n",
              "        google.colab.kernel.accessAllowed ? 'block' : 'none';\n",
              "    })();\n",
              "  </script>\n",
              "</div>\n",
              "\n",
              "  <div id=\"id_98f7d853-4745-42e5-b891-cdb33f8b0510\">\n",
              "    <style>\n",
              "      .colab-df-generate {\n",
              "        background-color: #E8F0FE;\n",
              "        border: none;\n",
              "        border-radius: 50%;\n",
              "        cursor: pointer;\n",
              "        display: none;\n",
              "        fill: #1967D2;\n",
              "        height: 32px;\n",
              "        padding: 0 0 0 0;\n",
              "        width: 32px;\n",
              "      }\n",
              "\n",
              "      .colab-df-generate:hover {\n",
              "        background-color: #E2EBFA;\n",
              "        box-shadow: 0px 1px 2px rgba(60, 64, 67, 0.3), 0px 1px 3px 1px rgba(60, 64, 67, 0.15);\n",
              "        fill: #174EA6;\n",
              "      }\n",
              "\n",
              "      [theme=dark] .colab-df-generate {\n",
              "        background-color: #3B4455;\n",
              "        fill: #D2E3FC;\n",
              "      }\n",
              "\n",
              "      [theme=dark] .colab-df-generate:hover {\n",
              "        background-color: #434B5C;\n",
              "        box-shadow: 0px 1px 3px 1px rgba(0, 0, 0, 0.15);\n",
              "        filter: drop-shadow(0px 1px 2px rgba(0, 0, 0, 0.3));\n",
              "        fill: #FFFFFF;\n",
              "      }\n",
              "    </style>\n",
              "    <button class=\"colab-df-generate\" onclick=\"generateWithVariable('y_train')\"\n",
              "            title=\"Generate code using this dataframe.\"\n",
              "            style=\"display:none;\">\n",
              "\n",
              "  <svg xmlns=\"http://www.w3.org/2000/svg\" height=\"24px\"viewBox=\"0 0 24 24\"\n",
              "       width=\"24px\">\n",
              "    <path d=\"M7,19H8.4L18.45,9,17,7.55,7,17.6ZM5,21V16.75L18.45,3.32a2,2,0,0,1,2.83,0l1.4,1.43a1.91,1.91,0,0,1,.58,1.4,1.91,1.91,0,0,1-.58,1.4L9.25,21ZM18.45,9,17,7.55Zm-12,3A5.31,5.31,0,0,0,4.9,8.1,5.31,5.31,0,0,0,1,6.5,5.31,5.31,0,0,0,4.9,4.9,5.31,5.31,0,0,0,6.5,1,5.31,5.31,0,0,0,8.1,4.9,5.31,5.31,0,0,0,12,6.5,5.46,5.46,0,0,0,6.5,12Z\"/>\n",
              "  </svg>\n",
              "    </button>\n",
              "    <script>\n",
              "      (() => {\n",
              "      const buttonEl =\n",
              "        document.querySelector('#id_98f7d853-4745-42e5-b891-cdb33f8b0510 button.colab-df-generate');\n",
              "      buttonEl.style.display =\n",
              "        google.colab.kernel.accessAllowed ? 'block' : 'none';\n",
              "\n",
              "      buttonEl.onclick = () => {\n",
              "        google.colab.notebook.generateWithVariable('y_train');\n",
              "      }\n",
              "      })();\n",
              "    </script>\n",
              "  </div>\n",
              "\n",
              "    </div>\n",
              "  </div>\n"
            ],
            "application/vnd.google.colaboratory.intrinsic+json": {
              "type": "dataframe",
              "variable_name": "y_train",
              "summary": "{\n  \"name\": \"y_train\",\n  \"rows\": 60092,\n  \"fields\": [\n    {\n      \"column\": \"Unnamed: 0\",\n      \"properties\": {\n        \"dtype\": \"number\",\n        \"std\": 2891,\n        \"min\": 0,\n        \"max\": 10199,\n        \"num_unique_values\": 10200,\n        \"samples\": [\n          10078,\n          3742,\n          10068\n        ],\n        \"semantic_type\": \"\",\n        \"description\": \"\"\n      }\n    },\n    {\n      \"column\": \"ID\",\n      \"properties\": {\n        \"dtype\": \"string\",\n        \"num_unique_values\": 60092,\n        \"samples\": [\n          \"6fc6fe44-bbc2-11e8-b2bb-ac1f6b6435d0._11\",\n          \"5af63cec-bb9e-11e8-b2b9-ac1f6b6435d0._3\",\n          \"4c0c04c6-bbaf-11e8-b2ba-ac1f6b6435d0._13\"\n        ],\n        \"semantic_type\": \"\",\n        \"description\": \"\"\n      }\n    },\n    {\n      \"column\": \"label\",\n      \"properties\": {\n        \"dtype\": \"number\",\n        \"std\": 5,\n        \"min\": 0,\n        \"max\": 18,\n        \"num_unique_values\": 18,\n        \"samples\": [\n          5,\n          1,\n          6\n        ],\n        \"semantic_type\": \"\",\n        \"description\": \"\"\n      }\n    }\n  ]\n}"
            }
          },
          "metadata": {},
          "execution_count": 22
        }
      ],
      "source": [
        "X_train = np.concatenate((X_train1, X_train2, X_train3, X_train4, X_train5, X_train6), axis = 0)\n",
        "y_train = pd.concat([y_train1, y_train2, y_train3, y_train4, y_train5, y_train6])\n",
        "X_val = np.concatenate((X_val1,X_val2,X_val3,X_val4,X_val5,X_val6), axis = 0)\n",
        "y_val = pd.concat([y_val1,y_val2,y_val3,y_val4,y_val5,y_val6])\n",
        "X_test = np.concatenate((X_test1,X_test2,X_test3,X_test4,X_test5,X_test6), axis = 0)\n",
        "y_test = pd.concat([y_test1,y_test2,y_test3,y_test4,y_test5,y_test6])"
      ]
    },
    {
      "cell_type": "code",
      "execution_count": null,
      "metadata": {
        "id": "GqZCKlY8Vbhq"
      },
      "outputs": [],
      "source": [
        "X_trainNewShape = X_train.shape[1]* X_train.shape[2]*X_train.shape[3]\n",
        "X_valNewShape = X_val.shape[1]* X_val.shape[2]*X_val.shape[3]\n",
        "# X_testNewShape = X_test.shape[1]*X_test.shape[2]*X_test.shape[3]\n",
        "X_train_flat = X_train.reshape(X_train.shape[0], X_trainNewShape )\n",
        "X_val_flat = X_val.reshape(X_val.shape[0], X_valNewShape)\n",
        "# X_test_flat = X_test.reshape(X_test.shape[0], X_testNewShape)"
      ]
    },
    {
      "cell_type": "code",
      "execution_count": null,
      "metadata": {
        "id": "Iw7DyGD12plB"
      },
      "outputs": [],
      "source": [
        "ros = RandomOverSampler(random_state=0)\n",
        "X_trainSampled, y_trainSampled = ros.fit_resample(X_train_flat, y_train.iloc[:,-1])\n",
        "X_valSampled, y_valSampled = ros.fit_resample(X_val_flat, y_val.iloc[:,-1])\n",
        "# X_testSampled, y_testSampled = ros.fit_resample(X_test_flat, y_test)"
      ]
    },
    {
      "cell_type": "code",
      "execution_count": null,
      "metadata": {
        "id": "8EJD3oUS30nN"
      },
      "outputs": [],
      "source": [
        "X_train_final = X_trainSampled.reshape(len(X_trainSampled), 224, 224, 3)\n",
        "X_val_final = X_valSampled.reshape(len(X_valSampled), 224, 224, 3)\n",
        "# X_test_final = X_testSampled.reshape(len(X_testSampled), 224, 224, 3)"
      ]
    },
    {
      "cell_type": "code",
      "source": [
        "#5000 sample of train 1000 sample of val"
      ],
      "metadata": {
        "id": "bll4yXbxzsRc"
      },
      "execution_count": null,
      "outputs": []
    },
    {
      "cell_type": "code",
      "source": [
        "train_indices = []\n",
        "for i in range(18):\n",
        "    y = y_trainSampled.iloc[:, -1]\n",
        "    ind = y[y==i].index[:278]\n",
        "    train_indices.extend(list(ind))\n",
        "\n",
        "import random\n",
        "random.shuffle(train_indices)\n",
        "val_indices = []\n",
        "for i in range(18):\n",
        "    y = y_val.iloc[:, -1]\n",
        "    ind = y[y==i].index[:60]\n",
        "    val_indices.extend(list(ind))\n",
        "\n",
        "import random\n",
        "random.shuffle(val_indices)\n"
      ],
      "metadata": {
        "id": "93wJMxqBWyLC"
      },
      "execution_count": null,
      "outputs": []
    },
    {
      "cell_type": "code",
      "execution_count": null,
      "metadata": {
        "id": "oHTPXhOygL9m"
      },
      "outputs": [],
      "source": [
        "X_train_new = X_train_final[train_indices]\n",
        "y_train_new = y_trainSampled[train_indices]\n",
        "X_val_new = X_val_final[val_indices]\n",
        "y_val_new = y_valSampled[val_indices]"
      ]
    },
    {
      "cell_type": "code",
      "execution_count": null,
      "metadata": {
        "id": "RCc9hgsmSXjW"
      },
      "outputs": [],
      "source": [
        "from sklearn.preprocessing import OneHotEncoder\n",
        "\n",
        "encoder = OneHotEncoder(sparse_output=False)\n",
        "y_train_one_hot = encoder.fit_transform(y_train_new.values.reshape(-1, 1))\n",
        "y_val_one_hot = encoder.fit_transform(y_val_new.values.reshape(-1, 1))"
      ]
    },
    {
      "cell_type": "code",
      "execution_count": null,
      "metadata": {
        "id": "kzKNrUnnjxhD"
      },
      "outputs": [],
      "source": [
        "# train_label = to_categorical(y_train['label'] )\n",
        "# val_label = to_categorical(y_val['label'])"
      ]
    },
    {
      "cell_type": "code",
      "execution_count": null,
      "metadata": {
        "colab": {
          "base_uri": "https://localhost:8080/"
        },
        "id": "ayd7WgYicBjp",
        "outputId": "b951cd59-4463-4afd-b7c2-41ca0e34abda"
      },
      "outputs": [
        {
          "output_type": "stream",
          "name": "stdout",
          "text": [
            "[0. 0. 0. 0. 0. 1. 0. 0. 0. 0. 0. 0. 0. 0. 0. 0. 0. 0.]\n",
            "18\n",
            "[0. 0. 0. 0. 1. 0. 0. 0. 0. 0. 0. 0. 0. 0. 0. 0. 0. 0.]\n",
            "18\n"
          ]
        }
      ],
      "source": [
        "print(y_train_one_hot[0])\n",
        "print(len(y_train_one_hot[0]))\n",
        "print(y_val_one_hot[0])\n",
        "print(len(y_val_one_hot[0]))"
      ]
    },
    {
      "cell_type": "code",
      "source": [
        "  # One-hot encode labels\n",
        "# image_gen = ImageDataGenerator(horizontal_flip=True)\n",
        "# train_labels = train_gen.classes  # Assuming integer class labels\n",
        "# train_labels = to_categorical(train_labels)\n",
        "# train_gen = image_gen.flow_from_directory(\n",
        "#     batch_size=10, directory='G:\\\\major_project\\\\data2', shuffle=True, target_size=(224, 224), classes=list(np.unique(train_labels)), class_mode='categorical')\n",
        "\n",
        "# val_gen = image_gen.flow_from_directory(\n",
        "#     batch_size=10, directory='G:\\\\major_project\\\\validation1', shuffle=True, target_size=(224, 224), classes=list(np.unique(train_labels)), class_mode='categorical')\n",
        "\n",
        "# image_gen = ImageDataGenerator(horizontal_flip=True)\n",
        "\n",
        "# train_gen = image_gen.flow_from_directory(batch_size=10, directory='G:\\\\major_project\\\\data2', target_size=(224, 224), shuffle=True)\n",
        "# val_gen = image_gen.flow_from_directory(batch_size=10, directory='G:\\\\major_project\\\\validation1', target_size=(224, 224), shuffle=True)"
      ],
      "metadata": {
        "colab": {
          "base_uri": "https://localhost:8080/"
        },
        "id": "LwhMWqAKA5aj",
        "outputId": "6c71b15f-606e-4df8-c318-4d1eb66ef25f"
      },
      "execution_count": null,
      "outputs": [
        {
          "output_type": "stream",
          "name": "stdout",
          "text": [
            "Found 60092 images belonging to 18 classes.\n",
            "Found 15825 images belonging to 18 classes.\n"
          ]
        }
      ]
    },
    {
      "cell_type": "code",
      "source": [
        "# from sklearn.utils import class_weight\n",
        "# class_weights = class_weight.compute_class_weight(\n",
        "#                                         class_weight = \"balanced\",\n",
        "#                                         classes = np.unique(train_gen.classes),\n",
        "#                                         y = train_gen.classes\n",
        "#                                     )\n",
        "# class_weights_dict = dict(enumerate(class_weights))\n",
        "\n",
        "# print(\"Class Weights:\", class_weights_dict)"
      ],
      "metadata": {
        "colab": {
          "base_uri": "https://localhost:8080/"
        },
        "id": "d36O8t_0-jQ3",
        "outputId": "4ce68f18-debb-47ac-8007-a746de657f58"
      },
      "execution_count": null,
      "outputs": [
        {
          "output_type": "stream",
          "name": "stdout",
          "text": [
            "Class Weights: {0: 0.39428893875569204, 1: 2.1441518589880824, 2: 1.4321940988607655, 3: 1.0628603770915137, 4: 0.7187178567157039, 5: 0.49916932482721954, 6: 7.502122347066167, 7: 0.6525497350360525, 8: 2.379504236952562, 9: 21.96345029239766, 10: 1.0881500796755035, 11: 0.9847918715175352, 12: 0.7289180009704027, 13: 0.8921551160995308, 14: 1.061171152080243, 15: 0.8202566202566203, 16: 1.1771665883090425, 17: 2.5387410223912124}\n"
          ]
        }
      ]
    },
    {
      "cell_type": "code",
      "source": [
        "##Custom model"
      ],
      "metadata": {
        "id": "mZR9ulORYQpH"
      },
      "execution_count": null,
      "outputs": []
    },
    {
      "cell_type": "code",
      "execution_count": null,
      "metadata": {
        "id": "qkcXYhneJI89"
      },
      "outputs": [],
      "source": [
        "model = Sequential()\n",
        "model.add(Conv2D(64, (4, 4),padding='valid',data_format='channels_last', input_shape = (224,224,3)))\n",
        "model.add(Activation('relu'))\n",
        "model.add(MaxPooling2D(pool_size=(2, 2)))\n",
        "\n",
        "model.add(Conv2D(64,(4, 4)))\n",
        "model.add(BatchNormalization())\n",
        "model.add(Activation('relu'))\n",
        "model.add(Dropout(0.25))\n",
        "model.add(MaxPooling2D(pool_size=(2, 2)))\n",
        "\n",
        "model.add(Conv2D(128,(3, 3)))\n",
        "model.add(BatchNormalization())\n",
        "model.add(Activation('relu'))\n",
        "model.add(Dropout(0.25))\n",
        "model.add(MaxPooling2D(pool_size=(2, 2)))\n",
        "\n",
        "model.add(Conv2D(128,(3, 3)))\n",
        "model.add(BatchNormalization())\n",
        "model.add(Activation('relu'))\n",
        "model.add(Dropout(0.25))\n",
        "model.add(MaxPooling2D(pool_size=(2, 2)))\n",
        "\n",
        "model.add(Conv2D(512,(3, 3), activation= 'relu'))\n",
        "model.add(BatchNormalization())\n",
        "model.add(Activation('relu'))\n",
        "model.add(Dropout(0.25))\n",
        "model.add(MaxPooling2D(pool_size=(2, 2)))\n",
        "\n",
        "model.add(Flatten())\n",
        "model.add(Dense(512))\n",
        "model.add(Activation('relu'))\n",
        "model.add(Dropout(0.25))\n",
        "model.add(Dense(18, activation ='softmax'))"
      ]
    },
    {
      "cell_type": "code",
      "execution_count": null,
      "metadata": {
        "id": "LZtqu7OtTFbH"
      },
      "outputs": [],
      "source": [
        "K.clear_session()"
      ]
    },
    {
      "cell_type": "code",
      "execution_count": null,
      "metadata": {
        "id": "_F9rUk69KQD7"
      },
      "outputs": [],
      "source": [
        "model.compile(optimizer = Adam(learning_rate =0.0001), loss = 'categorical_crossentropy', metrics = ['accuracy', 'AUC', 'Precision', 'Recall', 'F1Score'])"
      ]
    },
    {
      "cell_type": "code",
      "execution_count": null,
      "metadata": {
        "colab": {
          "base_uri": "https://localhost:8080/"
        },
        "id": "11Sd91m5NQmP",
        "outputId": "be3c7ca1-0216-44b8-d40b-fa3e0865509c"
      },
      "outputs": [
        {
          "output_type": "stream",
          "name": "stdout",
          "text": [
            "Model: \"sequential\"\n",
            "_________________________________________________________________\n",
            " Layer (type)                Output Shape              Param #   \n",
            "=================================================================\n",
            " conv2d (Conv2D)             (None, 221, 221, 64)      3136      \n",
            "                                                                 \n",
            " activation (Activation)     (None, 221, 221, 64)      0         \n",
            "                                                                 \n",
            " max_pooling2d (MaxPooling2  (None, 110, 110, 64)      0         \n",
            " D)                                                              \n",
            "                                                                 \n",
            " conv2d_1 (Conv2D)           (None, 107, 107, 64)      65600     \n",
            "                                                                 \n",
            " batch_normalization (Batch  (None, 107, 107, 64)      256       \n",
            " Normalization)                                                  \n",
            "                                                                 \n",
            " activation_1 (Activation)   (None, 107, 107, 64)      0         \n",
            "                                                                 \n",
            " dropout (Dropout)           (None, 107, 107, 64)      0         \n",
            "                                                                 \n",
            " max_pooling2d_1 (MaxPoolin  (None, 53, 53, 64)        0         \n",
            " g2D)                                                            \n",
            "                                                                 \n",
            " conv2d_2 (Conv2D)           (None, 51, 51, 128)       73856     \n",
            "                                                                 \n",
            " batch_normalization_1 (Bat  (None, 51, 51, 128)       512       \n",
            " chNormalization)                                                \n",
            "                                                                 \n",
            " activation_2 (Activation)   (None, 51, 51, 128)       0         \n",
            "                                                                 \n",
            " dropout_1 (Dropout)         (None, 51, 51, 128)       0         \n",
            "                                                                 \n",
            " max_pooling2d_2 (MaxPoolin  (None, 25, 25, 128)       0         \n",
            " g2D)                                                            \n",
            "                                                                 \n",
            " conv2d_3 (Conv2D)           (None, 23, 23, 128)       147584    \n",
            "                                                                 \n",
            " batch_normalization_2 (Bat  (None, 23, 23, 128)       512       \n",
            " chNormalization)                                                \n",
            "                                                                 \n",
            " activation_3 (Activation)   (None, 23, 23, 128)       0         \n",
            "                                                                 \n",
            " dropout_2 (Dropout)         (None, 23, 23, 128)       0         \n",
            "                                                                 \n",
            " max_pooling2d_3 (MaxPoolin  (None, 11, 11, 128)       0         \n",
            " g2D)                                                            \n",
            "                                                                 \n",
            " conv2d_4 (Conv2D)           (None, 9, 9, 512)         590336    \n",
            "                                                                 \n",
            " batch_normalization_3 (Bat  (None, 9, 9, 512)         2048      \n",
            " chNormalization)                                                \n",
            "                                                                 \n",
            " activation_4 (Activation)   (None, 9, 9, 512)         0         \n",
            "                                                                 \n",
            " dropout_3 (Dropout)         (None, 9, 9, 512)         0         \n",
            "                                                                 \n",
            " max_pooling2d_4 (MaxPoolin  (None, 4, 4, 512)         0         \n",
            " g2D)                                                            \n",
            "                                                                 \n",
            " flatten (Flatten)           (None, 8192)              0         \n",
            "                                                                 \n",
            " dense (Dense)               (None, 512)               4194816   \n",
            "                                                                 \n",
            " activation_5 (Activation)   (None, 512)               0         \n",
            "                                                                 \n",
            " dropout_4 (Dropout)         (None, 512)               0         \n",
            "                                                                 \n",
            " dense_1 (Dense)             (None, 18)                9234      \n",
            "                                                                 \n",
            "=================================================================\n",
            "Total params: 5087890 (19.41 MB)\n",
            "Trainable params: 5086226 (19.40 MB)\n",
            "Non-trainable params: 1664 (6.50 KB)\n",
            "_________________________________________________________________\n",
            "None\n"
          ]
        }
      ],
      "source": [
        "print(model.summary())"
      ]
    },
    {
      "cell_type": "code",
      "execution_count": null,
      "metadata": {
        "id": "g7AdZprnZbek",
        "colab": {
          "base_uri": "https://localhost:8080/"
        },
        "outputId": "c481a72d-7c58-4ca5-d868-8f5bee6042b1"
      },
      "outputs": [
        {
          "output_type": "stream",
          "name": "stderr",
          "text": [
            "/usr/local/lib/python3.10/dist-packages/tensorflow/python/data/ops/structured_function.py:258: UserWarning: Even though the `tf.config.experimental_run_functions_eagerly` option is set, this option does not apply to tf.data functions. To force eager execution of tf.data functions, please use `tf.data.experimental.enable_debug_mode()`.\n",
            "  warnings.warn(\n"
          ]
        },
        {
          "output_type": "stream",
          "name": "stdout",
          "text": [
            "Epoch 1/50\n",
            "500/500 [==============================] - 109s 218ms/step - loss: 1.2318 - accuracy: 0.6348 - auc_1: 0.9551 - precision_1: 0.8731 - recall_1: 0.3700 - f1_score: 0.6304 - val_loss: 5.7722 - val_accuracy: 0.1527 - val_auc_1: 0.6368 - val_precision_1: 0.2358 - val_recall_1: 0.0800 - val_f1_score: 0.0999\n",
            "Epoch 2/50\n",
            "500/500 [==============================] - 99s 197ms/step - loss: 0.6081 - accuracy: 0.8472 - auc_1: 0.9903 - precision_1: 0.9455 - recall_1: 0.6972 - f1_score: 0.8710 - val_loss: 8.3014 - val_accuracy: 0.1393 - val_auc_1: 0.6227 - val_precision_1: 0.1676 - val_recall_1: 0.0820 - val_f1_score: 0.0978\n",
            "Epoch 3/50\n",
            "500/500 [==============================] - 89s 179ms/step - loss: 0.2606 - accuracy: 0.9416 - auc_1: 0.9980 - precision_1: 0.9747 - recall_1: 0.8928 - f1_score: 0.9529 - val_loss: 10.5178 - val_accuracy: 0.1287 - val_auc_1: 0.6088 - val_precision_1: 0.1475 - val_recall_1: 0.0900 - val_f1_score: 0.0842\n",
            "Epoch 4/50\n",
            "500/500 [==============================] - 99s 198ms/step - loss: 0.1077 - accuracy: 0.9830 - auc_1: 0.9995 - precision_1: 0.9898 - recall_1: 0.9708 - f1_score: 0.9870 - val_loss: 12.3388 - val_accuracy: 0.1320 - val_auc_1: 0.6070 - val_precision_1: 0.1613 - val_recall_1: 0.1100 - val_f1_score: 0.0969\n",
            "Epoch 5/50\n",
            "500/500 [==============================] - 92s 183ms/step - loss: 0.0452 - accuracy: 0.9966 - auc_1: 1.0000 - precision_1: 0.9974 - recall_1: 0.9928 - f1_score: 0.9976 - val_loss: 13.5307 - val_accuracy: 0.1293 - val_auc_1: 0.5973 - val_precision_1: 0.1430 - val_recall_1: 0.1020 - val_f1_score: 0.0924\n",
            "Epoch 6/50\n",
            "500/500 [==============================] - 98s 196ms/step - loss: 0.1002 - accuracy: 0.9784 - auc_1: 0.9985 - precision_1: 0.9803 - recall_1: 0.9734 - f1_score: 0.9788 - val_loss: 12.8838 - val_accuracy: 0.1393 - val_auc_1: 0.5997 - val_precision_1: 0.1589 - val_recall_1: 0.1133 - val_f1_score: 0.0884\n",
            "Epoch 7/50\n",
            "500/500 [==============================] - 88s 177ms/step - loss: 0.0821 - accuracy: 0.9820 - auc_1: 0.9988 - precision_1: 0.9847 - recall_1: 0.9800 - f1_score: 0.9841 - val_loss: 11.7983 - val_accuracy: 0.1300 - val_auc_1: 0.5907 - val_precision_1: 0.1395 - val_recall_1: 0.1040 - val_f1_score: 0.0861\n",
            "Epoch 8/50\n",
            "500/500 [==============================] - 87s 173ms/step - loss: 0.0661 - accuracy: 0.9850 - auc_1: 0.9994 - precision_1: 0.9863 - recall_1: 0.9820 - f1_score: 0.9876 - val_loss: 12.7333 - val_accuracy: 0.1380 - val_auc_1: 0.5922 - val_precision_1: 0.1539 - val_recall_1: 0.1167 - val_f1_score: 0.0826\n",
            "Epoch 9/50\n",
            "500/500 [==============================] - 93s 185ms/step - loss: 0.0420 - accuracy: 0.9922 - auc_1: 0.9994 - precision_1: 0.9932 - recall_1: 0.9908 - f1_score: 0.9937 - val_loss: 13.8692 - val_accuracy: 0.1333 - val_auc_1: 0.5904 - val_precision_1: 0.1506 - val_recall_1: 0.1167 - val_f1_score: 0.0906\n",
            "Epoch 10/50\n",
            "500/500 [==============================] - 84s 169ms/step - loss: 0.0326 - accuracy: 0.9920 - auc_1: 0.9997 - precision_1: 0.9926 - recall_1: 0.9912 - f1_score: 0.9935 - val_loss: 13.6419 - val_accuracy: 0.1407 - val_auc_1: 0.5962 - val_precision_1: 0.1539 - val_recall_1: 0.1207 - val_f1_score: 0.0945\n",
            "Epoch 11/50\n",
            "500/500 [==============================] - 93s 187ms/step - loss: 0.0063 - accuracy: 0.9996 - auc_1: 1.0000 - precision_1: 0.9996 - recall_1: 0.9992 - f1_score: 0.9997 - val_loss: 14.8782 - val_accuracy: 0.1293 - val_auc_1: 0.5935 - val_precision_1: 0.1454 - val_recall_1: 0.1160 - val_f1_score: 0.0912\n",
            "Epoch 12/50\n",
            "500/500 [==============================] - 93s 185ms/step - loss: 0.0186 - accuracy: 0.9970 - auc_1: 0.9994 - precision_1: 0.9970 - recall_1: 0.9964 - f1_score: 0.9974 - val_loss: 14.0615 - val_accuracy: 0.1447 - val_auc_1: 0.5989 - val_precision_1: 0.1620 - val_recall_1: 0.1313 - val_f1_score: 0.0960\n",
            "Epoch 13/50\n",
            "500/500 [==============================] - 93s 186ms/step - loss: 0.0117 - accuracy: 0.9982 - auc_1: 0.9999 - precision_1: 0.9982 - recall_1: 0.9980 - f1_score: 0.9985 - val_loss: 14.4773 - val_accuracy: 0.1313 - val_auc_1: 0.5873 - val_precision_1: 0.1397 - val_recall_1: 0.1140 - val_f1_score: 0.0920\n",
            "Epoch 14/50\n",
            "500/500 [==============================] - 84s 168ms/step - loss: 0.0349 - accuracy: 0.9916 - auc_1: 0.9993 - precision_1: 0.9920 - recall_1: 0.9910 - f1_score: 0.9934 - val_loss: 14.5201 - val_accuracy: 0.1100 - val_auc_1: 0.5784 - val_precision_1: 0.1255 - val_recall_1: 0.0993 - val_f1_score: 0.0757\n",
            "Epoch 15/50\n",
            "500/500 [==============================] - 94s 187ms/step - loss: 0.0901 - accuracy: 0.9794 - auc_1: 0.9982 - precision_1: 0.9827 - recall_1: 0.9778 - f1_score: 0.9833 - val_loss: 13.2934 - val_accuracy: 0.1313 - val_auc_1: 0.5817 - val_precision_1: 0.1411 - val_recall_1: 0.1093 - val_f1_score: 0.0914\n",
            "Epoch 16/50\n",
            "500/500 [==============================] - 93s 185ms/step - loss: 0.0199 - accuracy: 0.9968 - auc_1: 0.9997 - precision_1: 0.9970 - recall_1: 0.9968 - f1_score: 0.9976 - val_loss: 13.9713 - val_accuracy: 0.1327 - val_auc_1: 0.5932 - val_precision_1: 0.1436 - val_recall_1: 0.1160 - val_f1_score: 0.0954\n",
            "Epoch 17/50\n",
            "500/500 [==============================] - 94s 187ms/step - loss: 0.0030 - accuracy: 1.0000 - auc_1: 1.0000 - precision_1: 1.0000 - recall_1: 1.0000 - f1_score: 1.0000 - val_loss: 15.0733 - val_accuracy: 0.1353 - val_auc_1: 0.5832 - val_precision_1: 0.1458 - val_recall_1: 0.1213 - val_f1_score: 0.0972\n",
            "Epoch 18/50\n",
            "500/500 [==============================] - 85s 170ms/step - loss: 0.0011 - accuracy: 1.0000 - auc_1: 1.0000 - precision_1: 1.0000 - recall_1: 1.0000 - f1_score: 1.0000 - val_loss: 15.5496 - val_accuracy: 0.1400 - val_auc_1: 0.5865 - val_precision_1: 0.1523 - val_recall_1: 0.1293 - val_f1_score: 0.0983\n",
            "Epoch 19/50\n",
            "500/500 [==============================] - 94s 188ms/step - loss: 6.9548e-04 - accuracy: 1.0000 - auc_1: 1.0000 - precision_1: 1.0000 - recall_1: 1.0000 - f1_score: 1.0000 - val_loss: 16.0998 - val_accuracy: 0.1413 - val_auc_1: 0.5831 - val_precision_1: 0.1520 - val_recall_1: 0.1300 - val_f1_score: 0.1009\n",
            "Epoch 20/50\n",
            "500/500 [==============================] - 95s 189ms/step - loss: 4.8408e-04 - accuracy: 1.0000 - auc_1: 1.0000 - precision_1: 1.0000 - recall_1: 1.0000 - f1_score: 1.0000 - val_loss: 16.4822 - val_accuracy: 0.1407 - val_auc_1: 0.5841 - val_precision_1: 0.1483 - val_recall_1: 0.1287 - val_f1_score: 0.0951\n",
            "Epoch 21/50\n",
            "500/500 [==============================] - 84s 168ms/step - loss: 3.5356e-04 - accuracy: 1.0000 - auc_1: 1.0000 - precision_1: 1.0000 - recall_1: 1.0000 - f1_score: 1.0000 - val_loss: 16.8648 - val_accuracy: 0.1400 - val_auc_1: 0.5835 - val_precision_1: 0.1510 - val_recall_1: 0.1320 - val_f1_score: 0.0954\n",
            "Epoch 22/50\n",
            "500/500 [==============================] - 84s 168ms/step - loss: 2.6517e-04 - accuracy: 1.0000 - auc_1: 1.0000 - precision_1: 1.0000 - recall_1: 1.0000 - f1_score: 1.0000 - val_loss: 17.2420 - val_accuracy: 0.1353 - val_auc_1: 0.5824 - val_precision_1: 0.1475 - val_recall_1: 0.1300 - val_f1_score: 0.0938\n",
            "Epoch 23/50\n",
            "500/500 [==============================] - 93s 186ms/step - loss: 1.9866e-04 - accuracy: 1.0000 - auc_1: 1.0000 - precision_1: 1.0000 - recall_1: 1.0000 - f1_score: 1.0000 - val_loss: 17.5635 - val_accuracy: 0.1340 - val_auc_1: 0.5827 - val_precision_1: 0.1439 - val_recall_1: 0.1273 - val_f1_score: 0.0923\n",
            "Epoch 24/50\n",
            "500/500 [==============================] - 85s 169ms/step - loss: 1.5139e-04 - accuracy: 1.0000 - auc_1: 1.0000 - precision_1: 1.0000 - recall_1: 1.0000 - f1_score: 1.0000 - val_loss: 18.0204 - val_accuracy: 0.1360 - val_auc_1: 0.5803 - val_precision_1: 0.1475 - val_recall_1: 0.1313 - val_f1_score: 0.0929\n",
            "Epoch 25/50\n",
            "500/500 [==============================] - 94s 187ms/step - loss: 1.1644e-04 - accuracy: 1.0000 - auc_1: 1.0000 - precision_1: 1.0000 - recall_1: 1.0000 - f1_score: 1.0000 - val_loss: 18.2688 - val_accuracy: 0.1373 - val_auc_1: 0.5807 - val_precision_1: 0.1463 - val_recall_1: 0.1313 - val_f1_score: 0.0940\n",
            "Epoch 26/50\n",
            "500/500 [==============================] - 93s 187ms/step - loss: 8.9211e-05 - accuracy: 1.0000 - auc_1: 1.0000 - precision_1: 1.0000 - recall_1: 1.0000 - f1_score: 1.0000 - val_loss: 18.6848 - val_accuracy: 0.1387 - val_auc_1: 0.5796 - val_precision_1: 0.1468 - val_recall_1: 0.1320 - val_f1_score: 0.0945\n",
            "Epoch 27/50\n",
            "500/500 [==============================] - 93s 187ms/step - loss: 6.8887e-05 - accuracy: 1.0000 - auc_1: 1.0000 - precision_1: 1.0000 - recall_1: 1.0000 - f1_score: 1.0000 - val_loss: 19.0044 - val_accuracy: 0.1380 - val_auc_1: 0.5782 - val_precision_1: 0.1450 - val_recall_1: 0.1313 - val_f1_score: 0.0933\n",
            "Epoch 28/50\n",
            "500/500 [==============================] - 93s 187ms/step - loss: 5.3280e-05 - accuracy: 1.0000 - auc_1: 1.0000 - precision_1: 1.0000 - recall_1: 1.0000 - f1_score: 1.0000 - val_loss: 19.3515 - val_accuracy: 0.1400 - val_auc_1: 0.5797 - val_precision_1: 0.1456 - val_recall_1: 0.1327 - val_f1_score: 0.0949\n",
            "Epoch 29/50\n",
            "500/500 [==============================] - 93s 187ms/step - loss: 4.0720e-05 - accuracy: 1.0000 - auc_1: 1.0000 - precision_1: 1.0000 - recall_1: 1.0000 - f1_score: 1.0000 - val_loss: 19.6672 - val_accuracy: 0.1420 - val_auc_1: 0.5784 - val_precision_1: 0.1451 - val_recall_1: 0.1327 - val_f1_score: 0.0963\n",
            "Epoch 30/50\n",
            "500/500 [==============================] - 93s 187ms/step - loss: 3.1581e-05 - accuracy: 1.0000 - auc_1: 1.0000 - precision_1: 1.0000 - recall_1: 1.0000 - f1_score: 1.0000 - val_loss: 20.0526 - val_accuracy: 0.1400 - val_auc_1: 0.5773 - val_precision_1: 0.1446 - val_recall_1: 0.1327 - val_f1_score: 0.0945\n",
            "Epoch 31/50\n",
            "500/500 [==============================] - 85s 170ms/step - loss: 2.4312e-05 - accuracy: 1.0000 - auc_1: 1.0000 - precision_1: 1.0000 - recall_1: 1.0000 - f1_score: 1.0000 - val_loss: 20.4101 - val_accuracy: 0.1393 - val_auc_1: 0.5778 - val_precision_1: 0.1466 - val_recall_1: 0.1340 - val_f1_score: 0.0944\n",
            "Epoch 32/50\n",
            "500/500 [==============================] - 95s 190ms/step - loss: 1.8601e-05 - accuracy: 1.0000 - auc_1: 1.0000 - precision_1: 1.0000 - recall_1: 1.0000 - f1_score: 1.0000 - val_loss: 20.8032 - val_accuracy: 0.1420 - val_auc_1: 0.5768 - val_precision_1: 0.1441 - val_recall_1: 0.1320 - val_f1_score: 0.0970\n",
            "Epoch 33/50\n",
            "500/500 [==============================] - 94s 188ms/step - loss: 1.4221e-05 - accuracy: 1.0000 - auc_1: 1.0000 - precision_1: 1.0000 - recall_1: 1.0000 - f1_score: 1.0000 - val_loss: 21.2002 - val_accuracy: 0.1393 - val_auc_1: 0.5770 - val_precision_1: 0.1447 - val_recall_1: 0.1333 - val_f1_score: 0.0949\n",
            "Epoch 34/50\n",
            "500/500 [==============================] - 84s 169ms/step - loss: 1.0907e-05 - accuracy: 1.0000 - auc_1: 1.0000 - precision_1: 1.0000 - recall_1: 1.0000 - f1_score: 1.0000 - val_loss: 21.5997 - val_accuracy: 0.1407 - val_auc_1: 0.5754 - val_precision_1: 0.1433 - val_recall_1: 0.1327 - val_f1_score: 0.0954\n",
            "Epoch 35/50\n",
            "500/500 [==============================] - 84s 169ms/step - loss: 8.4001e-06 - accuracy: 1.0000 - auc_1: 1.0000 - precision_1: 1.0000 - recall_1: 1.0000 - f1_score: 1.0000 - val_loss: 21.9705 - val_accuracy: 0.1420 - val_auc_1: 0.5765 - val_precision_1: 0.1449 - val_recall_1: 0.1347 - val_f1_score: 0.0961\n",
            "Epoch 36/50\n",
            "500/500 [==============================] - 85s 169ms/step - loss: 6.4492e-06 - accuracy: 1.0000 - auc_1: 1.0000 - precision_1: 1.0000 - recall_1: 1.0000 - f1_score: 1.0000 - val_loss: 22.3224 - val_accuracy: 0.1427 - val_auc_1: 0.5757 - val_precision_1: 0.1440 - val_recall_1: 0.1340 - val_f1_score: 0.0968\n",
            "Epoch 37/50\n",
            "500/500 [==============================] - 94s 188ms/step - loss: 4.9805e-06 - accuracy: 1.0000 - auc_1: 1.0000 - precision_1: 1.0000 - recall_1: 1.0000 - f1_score: 1.0000 - val_loss: 22.7666 - val_accuracy: 0.1427 - val_auc_1: 0.5745 - val_precision_1: 0.1431 - val_recall_1: 0.1333 - val_f1_score: 0.0974\n",
            "Epoch 38/50\n",
            "500/500 [==============================] - 84s 169ms/step - loss: 3.8429e-06 - accuracy: 1.0000 - auc_1: 1.0000 - precision_1: 1.0000 - recall_1: 1.0000 - f1_score: 1.0000 - val_loss: 23.1458 - val_accuracy: 0.1413 - val_auc_1: 0.5751 - val_precision_1: 0.1420 - val_recall_1: 0.1320 - val_f1_score: 0.0965\n",
            "Epoch 39/50\n",
            "500/500 [==============================] - 93s 187ms/step - loss: 2.9334e-06 - accuracy: 1.0000 - auc_1: 1.0000 - precision_1: 1.0000 - recall_1: 1.0000 - f1_score: 1.0000 - val_loss: 23.4616 - val_accuracy: 0.1400 - val_auc_1: 0.5752 - val_precision_1: 0.1411 - val_recall_1: 0.1313 - val_f1_score: 0.0961\n",
            "Epoch 40/50\n",
            "500/500 [==============================] - 84s 168ms/step - loss: 2.2695e-06 - accuracy: 1.0000 - auc_1: 1.0000 - precision_1: 1.0000 - recall_1: 1.0000 - f1_score: 1.0000 - val_loss: 23.9595 - val_accuracy: 0.1413 - val_auc_1: 0.5740 - val_precision_1: 0.1429 - val_recall_1: 0.1333 - val_f1_score: 0.0968\n",
            "Epoch 41/50\n",
            "500/500 [==============================] - 85s 170ms/step - loss: 1.7425e-06 - accuracy: 1.0000 - auc_1: 1.0000 - precision_1: 1.0000 - recall_1: 1.0000 - f1_score: 1.0000 - val_loss: 24.3621 - val_accuracy: 0.1420 - val_auc_1: 0.5736 - val_precision_1: 0.1439 - val_recall_1: 0.1347 - val_f1_score: 0.0969\n",
            "Epoch 42/50\n",
            "500/500 [==============================] - 84s 168ms/step - loss: 1.3334e-06 - accuracy: 1.0000 - auc_1: 1.0000 - precision_1: 1.0000 - recall_1: 1.0000 - f1_score: 1.0000 - val_loss: 24.8688 - val_accuracy: 0.1387 - val_auc_1: 0.5707 - val_precision_1: 0.1392 - val_recall_1: 0.1300 - val_f1_score: 0.0957\n",
            "Epoch 43/50\n",
            "500/500 [==============================] - 84s 168ms/step - loss: 1.0300e-06 - accuracy: 1.0000 - auc_1: 1.0000 - precision_1: 1.0000 - recall_1: 1.0000 - f1_score: 1.0000 - val_loss: 25.2016 - val_accuracy: 0.1433 - val_auc_1: 0.5741 - val_precision_1: 0.1473 - val_recall_1: 0.1380 - val_f1_score: 0.0981\n",
            "Epoch 44/50\n",
            "500/500 [==============================] - 84s 168ms/step - loss: 7.8959e-07 - accuracy: 1.0000 - auc_1: 1.0000 - precision_1: 1.0000 - recall_1: 1.0000 - f1_score: 1.0000 - val_loss: 25.7259 - val_accuracy: 0.1433 - val_auc_1: 0.5708 - val_precision_1: 0.1447 - val_recall_1: 0.1367 - val_f1_score: 0.0995\n",
            "Epoch 45/50\n",
            "500/500 [==============================] - 85s 170ms/step - loss: 6.0775e-07 - accuracy: 1.0000 - auc_1: 1.0000 - precision_1: 1.0000 - recall_1: 1.0000 - f1_score: 1.0000 - val_loss: 26.2258 - val_accuracy: 0.1420 - val_auc_1: 0.5712 - val_precision_1: 0.1435 - val_recall_1: 0.1353 - val_f1_score: 0.0980\n",
            "Epoch 46/50\n",
            "500/500 [==============================] - 84s 168ms/step - loss: 4.6551e-07 - accuracy: 1.0000 - auc_1: 1.0000 - precision_1: 1.0000 - recall_1: 1.0000 - f1_score: 1.0000 - val_loss: 26.7003 - val_accuracy: 0.1440 - val_auc_1: 0.5707 - val_precision_1: 0.1469 - val_recall_1: 0.1393 - val_f1_score: 0.0983\n",
            "Epoch 47/50\n",
            "500/500 [==============================] - 93s 186ms/step - loss: 3.6089e-07 - accuracy: 1.0000 - auc_1: 1.0000 - precision_1: 1.0000 - recall_1: 1.0000 - f1_score: 1.0000 - val_loss: 27.2487 - val_accuracy: 0.1447 - val_auc_1: 0.5682 - val_precision_1: 0.1480 - val_recall_1: 0.1407 - val_f1_score: 0.0988\n",
            "Epoch 48/50\n",
            "500/500 [==============================] - 93s 187ms/step - loss: 2.7437e-07 - accuracy: 1.0000 - auc_1: 1.0000 - precision_1: 1.0000 - recall_1: 1.0000 - f1_score: 1.0000 - val_loss: 27.9183 - val_accuracy: 0.1427 - val_auc_1: 0.5694 - val_precision_1: 0.1464 - val_recall_1: 0.1380 - val_f1_score: 0.0976\n",
            "Epoch 49/50\n",
            "500/500 [==============================] - 85s 170ms/step - loss: 2.1067e-07 - accuracy: 1.0000 - auc_1: 1.0000 - precision_1: 1.0000 - recall_1: 1.0000 - f1_score: 1.0000 - val_loss: 28.6565 - val_accuracy: 0.1420 - val_auc_1: 0.5699 - val_precision_1: 0.1446 - val_recall_1: 0.1367 - val_f1_score: 0.0970\n",
            "Epoch 50/50\n",
            "500/500 [==============================] - 85s 169ms/step - loss: 1.6418e-07 - accuracy: 1.0000 - auc_1: 1.0000 - precision_1: 1.0000 - recall_1: 1.0000 - f1_score: 1.0000 - val_loss: 29.4897 - val_accuracy: 0.1427 - val_auc_1: 0.5698 - val_precision_1: 0.1439 - val_recall_1: 0.1367 - val_f1_score: 0.0970\n"
          ]
        }
      ],
      "source": [
        "model.compile(optimizer=Adam(learning_rate=0.0001), loss='sparse_categorical_crossentropy', metrics=['accuracy', 'AUC', 'Precision', 'Recall', 'F1Score'])\n",
        "\n",
        "with tf.device('/GPU:0'):\n",
        "    history1 = model.fit(x=X_train_new, y=y_train_one_hot, validation_data=(X_val_new, y_val_one_hot),epochs=50,batch_size=10,verbose=1)"
      ]
    },
    {
      "cell_type": "code",
      "source": [
        "df = pd.DataFrame(history1.history)\n",
        "df.to_csv(\"/content/drive/MyDrive/data/custom_result.csv\")"
      ],
      "metadata": {
        "id": "O3i0QzAF3_DQ"
      },
      "execution_count": null,
      "outputs": []
    },
    {
      "cell_type": "code",
      "source": [
        "y_pred =np.array([])\n",
        "for i in X_test2[1600:2000]:\n",
        "  predictions = model.predict(np.expand_dims(i, axis=0))\n",
        "  predicted_labels = np.argmax(predictions, axis=1)\n",
        "  label = predicted_labels[0]\n",
        "  if label >= 11:\n",
        "    print(label+1)\n",
        "    y_pred = np.append(y_pred, label+1)\n",
        "  else:\n",
        "    y_pred = np.append(y_pred, label)"
      ],
      "metadata": {
        "colab": {
          "base_uri": "https://localhost:8080/"
        },
        "id": "o2_xkeB0AjiJ",
        "outputId": "91726029-51bc-4613-a7d9-5985f5c26318",
        "collapsed": true
      },
      "execution_count": null,
      "outputs": [
        {
          "output_type": "stream",
          "name": "stdout",
          "text": [
            "1/1 [==============================] - 0s 35ms/step\n",
            "1/1 [==============================] - 0s 31ms/step\n",
            "1/1 [==============================] - 0s 35ms/step\n",
            "1/1 [==============================] - 0s 36ms/step\n",
            "1/1 [==============================] - 0s 33ms/step\n",
            "1/1 [==============================] - 0s 39ms/step\n",
            "1/1 [==============================] - 0s 31ms/step\n",
            "1/1 [==============================] - 0s 31ms/step\n",
            "1/1 [==============================] - 0s 32ms/step\n",
            "1/1 [==============================] - 0s 31ms/step\n",
            "1/1 [==============================] - 0s 32ms/step\n",
            "1/1 [==============================] - 0s 33ms/step\n",
            "1/1 [==============================] - 0s 35ms/step\n",
            "1/1 [==============================] - 0s 34ms/step\n",
            "1/1 [==============================] - 0s 31ms/step\n",
            "1/1 [==============================] - 0s 32ms/step\n",
            "12\n",
            "1/1 [==============================] - 0s 31ms/step\n",
            "1/1 [==============================] - 0s 31ms/step\n",
            "1/1 [==============================] - 0s 35ms/step\n",
            "1/1 [==============================] - 0s 33ms/step\n",
            "1/1 [==============================] - 0s 32ms/step\n",
            "1/1 [==============================] - 0s 31ms/step\n",
            "1/1 [==============================] - 0s 35ms/step\n",
            "1/1 [==============================] - 0s 32ms/step\n",
            "1/1 [==============================] - 0s 33ms/step\n",
            "16\n",
            "1/1 [==============================] - 0s 36ms/step\n",
            "1/1 [==============================] - 0s 32ms/step\n",
            "13\n",
            "1/1 [==============================] - 0s 32ms/step\n",
            "16\n",
            "1/1 [==============================] - 0s 33ms/step\n",
            "13\n",
            "1/1 [==============================] - 0s 34ms/step\n",
            "16\n",
            "1/1 [==============================] - 0s 40ms/step\n",
            "16\n",
            "1/1 [==============================] - 0s 33ms/step\n",
            "1/1 [==============================] - 0s 32ms/step\n",
            "16\n",
            "1/1 [==============================] - 0s 34ms/step\n",
            "16\n",
            "1/1 [==============================] - 0s 32ms/step\n",
            "1/1 [==============================] - 0s 32ms/step\n",
            "16\n",
            "1/1 [==============================] - 0s 31ms/step\n",
            "16\n",
            "1/1 [==============================] - 0s 30ms/step\n",
            "13\n",
            "1/1 [==============================] - 0s 31ms/step\n",
            "16\n",
            "1/1 [==============================] - 0s 32ms/step\n",
            "1/1 [==============================] - 0s 33ms/step\n",
            "1/1 [==============================] - 0s 32ms/step\n",
            "1/1 [==============================] - 0s 33ms/step\n",
            "1/1 [==============================] - 0s 49ms/step\n",
            "1/1 [==============================] - 0s 48ms/step\n",
            "1/1 [==============================] - 0s 46ms/step\n",
            "1/1 [==============================] - 0s 43ms/step\n",
            "1/1 [==============================] - 0s 43ms/step\n",
            "1/1 [==============================] - 0s 45ms/step\n",
            "16\n",
            "1/1 [==============================] - 0s 50ms/step\n",
            "1/1 [==============================] - 0s 55ms/step\n",
            "1/1 [==============================] - 0s 53ms/step\n",
            "1/1 [==============================] - 0s 49ms/step\n",
            "1/1 [==============================] - 0s 51ms/step\n",
            "1/1 [==============================] - 0s 44ms/step\n",
            "1/1 [==============================] - 0s 48ms/step\n",
            "1/1 [==============================] - 0s 44ms/step\n",
            "1/1 [==============================] - 0s 42ms/step\n",
            "1/1 [==============================] - 0s 44ms/step\n",
            "1/1 [==============================] - 0s 43ms/step\n",
            "1/1 [==============================] - 0s 45ms/step\n",
            "1/1 [==============================] - 0s 45ms/step\n",
            "1/1 [==============================] - 0s 50ms/step\n",
            "1/1 [==============================] - 0s 47ms/step\n",
            "1/1 [==============================] - 0s 100ms/step\n",
            "1/1 [==============================] - 0s 57ms/step\n",
            "1/1 [==============================] - 0s 50ms/step\n",
            "1/1 [==============================] - 0s 46ms/step\n",
            "1/1 [==============================] - 0s 47ms/step\n",
            "1/1 [==============================] - 0s 62ms/step\n",
            "1/1 [==============================] - 0s 71ms/step\n",
            "1/1 [==============================] - 0s 63ms/step\n",
            "1/1 [==============================] - 0s 46ms/step\n",
            "1/1 [==============================] - 0s 42ms/step\n",
            "1/1 [==============================] - 0s 44ms/step\n",
            "1/1 [==============================] - 0s 48ms/step\n",
            "1/1 [==============================] - 0s 65ms/step\n",
            "1/1 [==============================] - 0s 60ms/step\n",
            "1/1 [==============================] - 0s 58ms/step\n",
            "16\n",
            "1/1 [==============================] - 0s 77ms/step\n",
            "13\n",
            "1/1 [==============================] - 0s 52ms/step\n",
            "1/1 [==============================] - 0s 56ms/step\n",
            "16\n",
            "1/1 [==============================] - 0s 44ms/step\n",
            "13\n",
            "1/1 [==============================] - 0s 45ms/step\n",
            "1/1 [==============================] - 0s 47ms/step\n",
            "1/1 [==============================] - 0s 49ms/step\n",
            "1/1 [==============================] - 0s 50ms/step\n",
            "13\n",
            "1/1 [==============================] - 0s 49ms/step\n",
            "1/1 [==============================] - 0s 49ms/step\n",
            "1/1 [==============================] - 0s 53ms/step\n",
            "1/1 [==============================] - 0s 55ms/step\n",
            "1/1 [==============================] - 0s 77ms/step\n",
            "14\n",
            "1/1 [==============================] - 0s 59ms/step\n",
            "13\n",
            "1/1 [==============================] - 0s 51ms/step\n",
            "1/1 [==============================] - 0s 63ms/step\n",
            "16\n",
            "1/1 [==============================] - 0s 50ms/step\n",
            "1/1 [==============================] - 0s 76ms/step\n",
            "14\n",
            "1/1 [==============================] - 0s 52ms/step\n",
            "1/1 [==============================] - 0s 51ms/step\n",
            "1/1 [==============================] - 0s 31ms/step\n",
            "1/1 [==============================] - 0s 32ms/step\n",
            "1/1 [==============================] - 0s 35ms/step\n",
            "1/1 [==============================] - 0s 31ms/step\n",
            "13\n",
            "1/1 [==============================] - 0s 32ms/step\n",
            "13\n",
            "1/1 [==============================] - 0s 35ms/step\n",
            "1/1 [==============================] - 0s 35ms/step\n",
            "1/1 [==============================] - 0s 32ms/step\n",
            "13\n",
            "1/1 [==============================] - 0s 35ms/step\n",
            "13\n",
            "1/1 [==============================] - 0s 32ms/step\n",
            "13\n",
            "1/1 [==============================] - 0s 31ms/step\n",
            "13\n",
            "1/1 [==============================] - 0s 35ms/step\n",
            "13\n",
            "1/1 [==============================] - 0s 31ms/step\n",
            "1/1 [==============================] - 0s 30ms/step\n",
            "13\n",
            "1/1 [==============================] - 0s 37ms/step\n",
            "16\n",
            "1/1 [==============================] - 0s 31ms/step\n",
            "13\n",
            "1/1 [==============================] - 0s 32ms/step\n",
            "13\n",
            "1/1 [==============================] - 0s 33ms/step\n",
            "1/1 [==============================] - 0s 33ms/step\n",
            "16\n",
            "1/1 [==============================] - 0s 38ms/step\n",
            "13\n",
            "1/1 [==============================] - 0s 32ms/step\n",
            "13\n",
            "1/1 [==============================] - 0s 31ms/step\n",
            "13\n",
            "1/1 [==============================] - 0s 36ms/step\n",
            "14\n",
            "1/1 [==============================] - 0s 34ms/step\n",
            "13\n",
            "1/1 [==============================] - 0s 37ms/step\n",
            "13\n",
            "1/1 [==============================] - 0s 31ms/step\n",
            "1/1 [==============================] - 0s 30ms/step\n",
            "16\n",
            "1/1 [==============================] - 0s 31ms/step\n",
            "1/1 [==============================] - 0s 31ms/step\n",
            "13\n",
            "1/1 [==============================] - 0s 33ms/step\n",
            "13\n",
            "1/1 [==============================] - 0s 35ms/step\n",
            "1/1 [==============================] - 0s 31ms/step\n",
            "12\n",
            "1/1 [==============================] - 0s 36ms/step\n",
            "1/1 [==============================] - 0s 32ms/step\n",
            "1/1 [==============================] - 0s 33ms/step\n",
            "16\n",
            "1/1 [==============================] - 0s 39ms/step\n",
            "1/1 [==============================] - 0s 32ms/step\n",
            "1/1 [==============================] - 0s 30ms/step\n",
            "1/1 [==============================] - 0s 31ms/step\n",
            "1/1 [==============================] - 0s 34ms/step\n",
            "12\n",
            "1/1 [==============================] - 0s 36ms/step\n",
            "12\n",
            "1/1 [==============================] - 0s 34ms/step\n",
            "12\n",
            "1/1 [==============================] - 0s 32ms/step\n",
            "1/1 [==============================] - 0s 33ms/step\n",
            "1/1 [==============================] - 0s 33ms/step\n",
            "12\n",
            "1/1 [==============================] - 0s 31ms/step\n",
            "1/1 [==============================] - 0s 40ms/step\n",
            "1/1 [==============================] - 0s 38ms/step\n",
            "13\n",
            "1/1 [==============================] - 0s 31ms/step\n",
            "1/1 [==============================] - 0s 32ms/step\n",
            "13\n",
            "1/1 [==============================] - 0s 34ms/step\n",
            "13\n",
            "1/1 [==============================] - 0s 33ms/step\n",
            "13\n",
            "1/1 [==============================] - 0s 41ms/step\n",
            "13\n",
            "1/1 [==============================] - 0s 36ms/step\n",
            "13\n",
            "1/1 [==============================] - 0s 31ms/step\n",
            "13\n",
            "1/1 [==============================] - 0s 31ms/step\n",
            "13\n",
            "1/1 [==============================] - 0s 40ms/step\n",
            "13\n",
            "1/1 [==============================] - 0s 34ms/step\n",
            "13\n",
            "1/1 [==============================] - 0s 35ms/step\n",
            "13\n",
            "1/1 [==============================] - 0s 32ms/step\n",
            "13\n",
            "1/1 [==============================] - 0s 37ms/step\n",
            "13\n",
            "1/1 [==============================] - 0s 32ms/step\n",
            "13\n",
            "1/1 [==============================] - 0s 33ms/step\n",
            "14\n",
            "1/1 [==============================] - 0s 33ms/step\n",
            "1/1 [==============================] - 0s 34ms/step\n",
            "16\n",
            "1/1 [==============================] - 0s 32ms/step\n",
            "1/1 [==============================] - 0s 31ms/step\n",
            "16\n",
            "1/1 [==============================] - 0s 33ms/step\n",
            "13\n",
            "1/1 [==============================] - 0s 36ms/step\n",
            "1/1 [==============================] - 0s 34ms/step\n",
            "1/1 [==============================] - 0s 32ms/step\n",
            "16\n",
            "1/1 [==============================] - 0s 34ms/step\n",
            "13\n",
            "1/1 [==============================] - 0s 31ms/step\n",
            "16\n",
            "1/1 [==============================] - 0s 34ms/step\n",
            "1/1 [==============================] - 0s 30ms/step\n",
            "1/1 [==============================] - 0s 39ms/step\n",
            "1/1 [==============================] - 0s 33ms/step\n",
            "1/1 [==============================] - 0s 31ms/step\n",
            "13\n",
            "1/1 [==============================] - 0s 31ms/step\n",
            "13\n",
            "1/1 [==============================] - 0s 33ms/step\n",
            "16\n",
            "1/1 [==============================] - 0s 30ms/step\n",
            "1/1 [==============================] - 0s 31ms/step\n",
            "13\n",
            "1/1 [==============================] - 0s 31ms/step\n",
            "13\n",
            "1/1 [==============================] - 0s 32ms/step\n",
            "1/1 [==============================] - 0s 31ms/step\n",
            "13\n",
            "1/1 [==============================] - 0s 32ms/step\n",
            "1/1 [==============================] - 0s 43ms/step\n",
            "1/1 [==============================] - 0s 31ms/step\n",
            "1/1 [==============================] - 0s 31ms/step\n",
            "1/1 [==============================] - 0s 30ms/step\n",
            "1/1 [==============================] - 0s 31ms/step\n",
            "1/1 [==============================] - 0s 34ms/step\n",
            "1/1 [==============================] - 0s 32ms/step\n",
            "1/1 [==============================] - 0s 30ms/step\n",
            "1/1 [==============================] - 0s 31ms/step\n",
            "1/1 [==============================] - 0s 32ms/step\n",
            "1/1 [==============================] - 0s 32ms/step\n",
            "12\n",
            "1/1 [==============================] - 0s 31ms/step\n",
            "1/1 [==============================] - 0s 32ms/step\n",
            "12\n",
            "1/1 [==============================] - 0s 33ms/step\n",
            "12\n",
            "1/1 [==============================] - 0s 31ms/step\n",
            "12\n",
            "1/1 [==============================] - 0s 47ms/step\n",
            "12\n",
            "1/1 [==============================] - 0s 46ms/step\n",
            "1/1 [==============================] - 0s 41ms/step\n",
            "1/1 [==============================] - 0s 43ms/step\n",
            "12\n",
            "1/1 [==============================] - 0s 45ms/step\n",
            "13\n",
            "1/1 [==============================] - 0s 84ms/step\n",
            "13\n",
            "1/1 [==============================] - 0s 42ms/step\n",
            "13\n",
            "1/1 [==============================] - 0s 55ms/step\n",
            "13\n",
            "1/1 [==============================] - 0s 48ms/step\n",
            "13\n",
            "1/1 [==============================] - 0s 47ms/step\n",
            "13\n",
            "1/1 [==============================] - 0s 42ms/step\n",
            "13\n",
            "1/1 [==============================] - 0s 42ms/step\n",
            "1/1 [==============================] - 0s 41ms/step\n",
            "1/1 [==============================] - 0s 47ms/step\n",
            "1/1 [==============================] - 0s 54ms/step\n",
            "1/1 [==============================] - 0s 41ms/step\n",
            "12\n",
            "1/1 [==============================] - 0s 42ms/step\n",
            "1/1 [==============================] - 0s 42ms/step\n",
            "1/1 [==============================] - 0s 55ms/step\n",
            "1/1 [==============================] - 0s 42ms/step\n",
            "1/1 [==============================] - 0s 47ms/step\n",
            "1/1 [==============================] - 0s 55ms/step\n",
            "1/1 [==============================] - 0s 47ms/step\n",
            "1/1 [==============================] - 0s 48ms/step\n",
            "1/1 [==============================] - 0s 55ms/step\n",
            "1/1 [==============================] - 0s 47ms/step\n",
            "1/1 [==============================] - 0s 51ms/step\n",
            "1/1 [==============================] - 0s 31ms/step\n",
            "1/1 [==============================] - 0s 31ms/step\n",
            "1/1 [==============================] - 0s 38ms/step\n",
            "1/1 [==============================] - 0s 29ms/step\n",
            "1/1 [==============================] - 0s 37ms/step\n",
            "1/1 [==============================] - 0s 32ms/step\n",
            "1/1 [==============================] - 0s 31ms/step\n",
            "1/1 [==============================] - 0s 32ms/step\n",
            "1/1 [==============================] - 0s 35ms/step\n",
            "1/1 [==============================] - 0s 33ms/step\n",
            "13\n",
            "1/1 [==============================] - 0s 31ms/step\n",
            "13\n",
            "1/1 [==============================] - 0s 30ms/step\n",
            "1/1 [==============================] - 0s 32ms/step\n",
            "1/1 [==============================] - 0s 32ms/step\n",
            "1/1 [==============================] - 0s 32ms/step\n",
            "1/1 [==============================] - 0s 45ms/step\n",
            "1/1 [==============================] - 0s 31ms/step\n",
            "1/1 [==============================] - 0s 33ms/step\n",
            "1/1 [==============================] - 0s 32ms/step\n",
            "1/1 [==============================] - 0s 32ms/step\n",
            "12\n",
            "1/1 [==============================] - 0s 32ms/step\n",
            "1/1 [==============================] - 0s 33ms/step\n",
            "1/1 [==============================] - 0s 33ms/step\n",
            "1/1 [==============================] - 0s 32ms/step\n",
            "1/1 [==============================] - 0s 35ms/step\n",
            "13\n",
            "1/1 [==============================] - 0s 37ms/step\n",
            "1/1 [==============================] - 0s 34ms/step\n",
            "16\n",
            "1/1 [==============================] - 0s 34ms/step\n",
            "1/1 [==============================] - 0s 31ms/step\n",
            "16\n",
            "1/1 [==============================] - 0s 35ms/step\n",
            "16\n",
            "1/1 [==============================] - 0s 33ms/step\n",
            "13\n",
            "1/1 [==============================] - 0s 32ms/step\n",
            "1/1 [==============================] - 0s 36ms/step\n",
            "16\n",
            "1/1 [==============================] - 0s 32ms/step\n",
            "1/1 [==============================] - 0s 37ms/step\n",
            "1/1 [==============================] - 0s 32ms/step\n",
            "16\n",
            "1/1 [==============================] - 0s 32ms/step\n",
            "1/1 [==============================] - 0s 32ms/step\n",
            "1/1 [==============================] - 0s 30ms/step\n",
            "1/1 [==============================] - 0s 35ms/step\n",
            "13\n",
            "1/1 [==============================] - 0s 35ms/step\n",
            "1/1 [==============================] - 0s 34ms/step\n",
            "1/1 [==============================] - 0s 37ms/step\n",
            "1/1 [==============================] - 0s 34ms/step\n",
            "1/1 [==============================] - 0s 35ms/step\n",
            "1/1 [==============================] - 0s 33ms/step\n",
            "1/1 [==============================] - 0s 31ms/step\n",
            "1/1 [==============================] - 0s 32ms/step\n",
            "1/1 [==============================] - 0s 32ms/step\n",
            "1/1 [==============================] - 0s 31ms/step\n",
            "1/1 [==============================] - 0s 30ms/step\n",
            "1/1 [==============================] - 0s 31ms/step\n",
            "1/1 [==============================] - 0s 35ms/step\n",
            "16\n",
            "1/1 [==============================] - 0s 31ms/step\n",
            "16\n",
            "1/1 [==============================] - 0s 35ms/step\n",
            "16\n",
            "1/1 [==============================] - 0s 34ms/step\n",
            "16\n",
            "1/1 [==============================] - 0s 33ms/step\n",
            "1/1 [==============================] - 0s 30ms/step\n",
            "16\n",
            "1/1 [==============================] - 0s 32ms/step\n",
            "16\n",
            "1/1 [==============================] - 0s 33ms/step\n",
            "16\n",
            "1/1 [==============================] - 0s 32ms/step\n",
            "1/1 [==============================] - 0s 32ms/step\n",
            "1/1 [==============================] - 0s 33ms/step\n",
            "1/1 [==============================] - 0s 32ms/step\n",
            "1/1 [==============================] - 0s 34ms/step\n",
            "1/1 [==============================] - 0s 32ms/step\n",
            "1/1 [==============================] - 0s 30ms/step\n",
            "1/1 [==============================] - 0s 30ms/step\n",
            "1/1 [==============================] - 0s 33ms/step\n",
            "1/1 [==============================] - 0s 33ms/step\n",
            "1/1 [==============================] - 0s 33ms/step\n",
            "1/1 [==============================] - 0s 31ms/step\n",
            "1/1 [==============================] - 0s 32ms/step\n",
            "1/1 [==============================] - 0s 34ms/step\n",
            "1/1 [==============================] - 0s 32ms/step\n",
            "17\n",
            "1/1 [==============================] - 0s 34ms/step\n",
            "1/1 [==============================] - 0s 36ms/step\n",
            "1/1 [==============================] - 0s 32ms/step\n",
            "1/1 [==============================] - 0s 32ms/step\n",
            "1/1 [==============================] - 0s 35ms/step\n",
            "1/1 [==============================] - 0s 32ms/step\n",
            "1/1 [==============================] - 0s 30ms/step\n",
            "16\n",
            "1/1 [==============================] - 0s 30ms/step\n",
            "13\n",
            "1/1 [==============================] - 0s 30ms/step\n",
            "16\n",
            "1/1 [==============================] - 0s 34ms/step\n",
            "16\n",
            "1/1 [==============================] - 0s 31ms/step\n",
            "16\n",
            "1/1 [==============================] - 0s 32ms/step\n",
            "13\n",
            "1/1 [==============================] - 0s 34ms/step\n",
            "1/1 [==============================] - 0s 34ms/step\n",
            "1/1 [==============================] - 0s 34ms/step\n",
            "16\n",
            "1/1 [==============================] - 0s 34ms/step\n",
            "16\n",
            "1/1 [==============================] - 0s 30ms/step\n",
            "16\n",
            "1/1 [==============================] - 0s 31ms/step\n",
            "16\n",
            "1/1 [==============================] - 0s 32ms/step\n",
            "13\n",
            "1/1 [==============================] - 0s 38ms/step\n",
            "13\n",
            "1/1 [==============================] - 0s 35ms/step\n",
            "16\n",
            "1/1 [==============================] - 0s 33ms/step\n",
            "16\n",
            "1/1 [==============================] - 0s 32ms/step\n",
            "13\n",
            "1/1 [==============================] - 0s 43ms/step\n",
            "16\n",
            "1/1 [==============================] - 0s 51ms/step\n",
            "13\n",
            "1/1 [==============================] - 0s 41ms/step\n",
            "13\n",
            "1/1 [==============================] - 0s 42ms/step\n",
            "1/1 [==============================] - 0s 50ms/step\n",
            "16\n",
            "1/1 [==============================] - 0s 48ms/step\n",
            "1/1 [==============================] - 0s 42ms/step\n",
            "1/1 [==============================] - 0s 47ms/step\n",
            "1/1 [==============================] - 0s 48ms/step\n",
            "1/1 [==============================] - 0s 46ms/step\n",
            "1/1 [==============================] - 0s 56ms/step\n",
            "1/1 [==============================] - 0s 42ms/step\n",
            "14\n",
            "1/1 [==============================] - 0s 46ms/step\n",
            "1/1 [==============================] - 0s 43ms/step\n",
            "1/1 [==============================] - 0s 41ms/step\n",
            "1/1 [==============================] - 0s 42ms/step\n",
            "1/1 [==============================] - 0s 43ms/step\n",
            "1/1 [==============================] - 0s 46ms/step\n",
            "1/1 [==============================] - 0s 56ms/step\n",
            "1/1 [==============================] - 0s 42ms/step\n",
            "1/1 [==============================] - 0s 61ms/step\n",
            "1/1 [==============================] - 0s 41ms/step\n",
            "1/1 [==============================] - 0s 54ms/step\n",
            "1/1 [==============================] - 0s 51ms/step\n",
            "1/1 [==============================] - 0s 45ms/step\n",
            "1/1 [==============================] - 0s 43ms/step\n",
            "1/1 [==============================] - 0s 46ms/step\n",
            "1/1 [==============================] - 0s 45ms/step\n",
            "1/1 [==============================] - 0s 47ms/step\n",
            "1/1 [==============================] - 0s 32ms/step\n",
            "1/1 [==============================] - 0s 32ms/step\n",
            "1/1 [==============================] - 0s 32ms/step\n",
            "1/1 [==============================] - 0s 31ms/step\n",
            "1/1 [==============================] - 0s 32ms/step\n",
            "1/1 [==============================] - 0s 32ms/step\n",
            "16\n",
            "1/1 [==============================] - 0s 32ms/step\n",
            "1/1 [==============================] - 0s 34ms/step\n",
            "1/1 [==============================] - 0s 32ms/step\n",
            "13\n",
            "1/1 [==============================] - 0s 34ms/step\n",
            "1/1 [==============================] - 0s 35ms/step\n",
            "1/1 [==============================] - 0s 41ms/step\n",
            "1/1 [==============================] - 0s 32ms/step\n",
            "1/1 [==============================] - 0s 31ms/step\n",
            "1/1 [==============================] - 0s 33ms/step\n",
            "16\n",
            "1/1 [==============================] - 0s 31ms/step\n",
            "12\n",
            "1/1 [==============================] - 0s 30ms/step\n",
            "1/1 [==============================] - 0s 31ms/step\n",
            "1/1 [==============================] - 0s 29ms/step\n",
            "12\n",
            "1/1 [==============================] - 0s 30ms/step\n",
            "12\n",
            "1/1 [==============================] - 0s 31ms/step\n",
            "1/1 [==============================] - 0s 35ms/step\n",
            "1/1 [==============================] - 0s 31ms/step\n",
            "1/1 [==============================] - 0s 35ms/step\n",
            "1/1 [==============================] - 0s 34ms/step\n",
            "1/1 [==============================] - 0s 31ms/step\n",
            "1/1 [==============================] - 0s 31ms/step\n",
            "1/1 [==============================] - 0s 30ms/step\n",
            "1/1 [==============================] - 0s 33ms/step\n",
            "16\n",
            "1/1 [==============================] - 0s 31ms/step\n",
            "1/1 [==============================] - 0s 31ms/step\n",
            "1/1 [==============================] - 0s 30ms/step\n",
            "1/1 [==============================] - 0s 34ms/step\n",
            "13\n",
            "1/1 [==============================] - 0s 30ms/step\n",
            "1/1 [==============================] - 0s 29ms/step\n",
            "1/1 [==============================] - 0s 31ms/step\n",
            "1/1 [==============================] - 0s 30ms/step\n",
            "1/1 [==============================] - 0s 33ms/step\n",
            "1/1 [==============================] - 0s 33ms/step\n",
            "1/1 [==============================] - 0s 32ms/step\n",
            "1/1 [==============================] - 0s 31ms/step\n",
            "1/1 [==============================] - 0s 36ms/step\n",
            "13\n",
            "1/1 [==============================] - 0s 31ms/step\n",
            "1/1 [==============================] - 0s 31ms/step\n",
            "1/1 [==============================] - 0s 38ms/step\n",
            "1/1 [==============================] - 0s 32ms/step\n",
            "16\n"
          ]
        }
      ]
    },
    {
      "cell_type": "code",
      "source": [
        "y_test = np.array(y_test2.iloc[1600:2000,2])\n",
        "from sklearn.metrics import ConfusionMatrixDisplay\n",
        "from sklearn.metrics import confusion_matrix\n",
        "columns = [\"Nucleoplasm\",\n",
        "                    \"Nuclear membrane\",\n",
        "                    \"Nucleoli\",\n",
        "                    \"Nucleoli fibrillar center\",\n",
        "                    \"Nuclear speckles\",\n",
        "                    \"Nuclear bodies\",\n",
        "                    \"Endoplasmic reticulum\",\n",
        "                    \"Golgi apparatus\",\n",
        "                    \"Intermediate filaments\",\n",
        "                    \"Actin filaments\",\n",
        "                    \"Microtubules\",\n",
        "                    \"Centrosome\",\n",
        "                    \"Plasma membrane\",\n",
        "                    \"Mitochondria\",\n",
        "                    \"Aggresome\",\n",
        "                    \"Cytosol\",\n",
        "                    \"Vesicles and punctate cytosolic patterns\",\n",
        "                    \"Negative\"]\n",
        "cm = confusion_matrix(y_test, y_pred)\n",
        "\n",
        "# Plot heatmap\n",
        "sns.heatmap(cm, xticklabels=columns, yticklabels=columns, cmap=plt.cm.Blues)\n",
        "# plt.savefig(\"/content/drive/MyDrive/data/CONF_MAT.png\", bbox_inches = 'tight')\n",
        "plt.show()"
      ],
      "metadata": {
        "colab": {
          "base_uri": "https://localhost:8080/",
          "height": 696
        },
        "id": "HVD3TLj0AtIb",
        "outputId": "e969860a-83a7-4ef9-edaf-3cef3994d7ac"
      },
      "execution_count": null,
      "outputs": [
        {
          "output_type": "display_data",
          "data": {
            "text/plain": [
              "<Figure size 640x480 with 2 Axes>"
            ],
            "image/png": "[encoded data removed]"
          },
          "metadata": {}
        }
      ]
    },
    {
      "cell_type": "code",
      "source": [
        "\n",
        "reconstructed_model = models.load_model(\"my_model.keras\")\n"
      ],
      "metadata": {
        "id": "Nh8yShDvQh-B"
      },
      "execution_count": null,
      "outputs": []
    },
    {
      "cell_type": "code",
      "execution_count": null,
      "metadata": {
        "colab": {
          "base_uri": "https://localhost:8080/",
          "height": 430
        },
        "id": "wP4jQ7nwphpn",
        "outputId": "68da3959-5760-4c23-be1b-63688c315c03"
      },
      "outputs": [
        {
          "output_type": "display_data",
          "data": {
            "text/plain": [
              "<Figure size 640x480 with 1 Axes>"
            ],
            "image/png": "[encoded data removed]"
          },
          "metadata": {}
        }
      ],
      "source": [
        "history_dict = history1.history\n",
        "org_loss =history_dict['loss']\n",
        "val_loss = history_dict['val_loss']\n",
        "plt.plot(org_loss, 'b-', label ='Training ')\n",
        "plt.plot(val_loss, 'r-', label ='val ')\n",
        "plt.plot()\n",
        "plt.show()"
      ]
    },
    {
      "cell_type": "code",
      "source": [
        "history_dict = history1.history\n",
        "org_loss =history_dict['accuracy']\n",
        "val_loss = history_dict['val_accuracy']\n",
        "plt.plot(org_loss, 'b-', label ='Training ')\n",
        "plt.plot(val_loss, 'r-', label ='val ')\n",
        "plt.plot()\n",
        "plt.show()"
      ],
      "metadata": {
        "colab": {
          "base_uri": "https://localhost:8080/",
          "height": 430
        },
        "id": "RwQ_CGBgQphB",
        "outputId": "3c2c3c9c-f63b-4fa2-d2f8-566954b25aeb"
      },
      "execution_count": null,
      "outputs": [
        {
          "output_type": "display_data",
          "data": {
            "text/plain": [
              "<Figure size 640x480 with 1 Axes>"
            ],
            "image/png": "[encoded data removed]"
          },
          "metadata": {}
        }
      ]
    },
    {
      "cell_type": "code",
      "source": [
        "#ResNet50"
      ],
      "metadata": {
        "id": "3hOMAUFFYs2P"
      },
      "execution_count": null,
      "outputs": []
    },
    {
      "cell_type": "code",
      "execution_count": null,
      "metadata": {
        "id": "_y08ntm9jW6n"
      },
      "outputs": [],
      "source": [
        "resnet = ResNet50(weights=\"imagenet\", include_top=False,\n",
        "\tinput_tensor=Input(shape=(224, 224, 3)))"
      ]
    },
    {
      "cell_type": "code",
      "execution_count": null,
      "metadata": {
        "id": "2mAmZt7znMoV"
      },
      "outputs": [],
      "source": [
        "model = Sequential()\n",
        "model.add(ResNet50(include_top = False, pooling = 'avg', weights=\"imagenet\",))\n",
        "model.add(Dense(18, activation = 'softmax'))\n",
        "model.layers[0].trainable = False"
      ]
    },
    {
      "cell_type": "code",
      "execution_count": null,
      "metadata": {
        "colab": {
          "base_uri": "https://localhost:8080/"
        },
        "id": "f4QhKIAqn6HV",
        "outputId": "6e5411e7-6280-4153-ba66-7dd08e618f74"
      },
      "outputs": [
        {
          "name": "stdout",
          "output_type": "stream",
          "text": [
            "Model: \"sequential_6\"\n",
            "_________________________________________________________________\n",
            " Layer (type)                Output Shape              Param #   \n",
            "=================================================================\n",
            " resnet50 (Functional)       (None, 2048)              23587712  \n",
            "                                                                 \n",
            " dense_1 (Dense)             (None, 18)                36882     \n",
            "                                                                 \n",
            "=================================================================\n",
            "Total params: 23624594 (90.12 MB)\n",
            "Trainable params: 36882 (144.07 KB)\n",
            "Non-trainable params: 23587712 (89.98 MB)\n",
            "_________________________________________________________________\n"
          ]
        }
      ],
      "source": [
        "model.summary()"
      ]
    },
    {
      "cell_type": "code",
      "source": [
        "with tf.device('/GPU:0'):\n",
        "    history1 = model.fit(x=X_train_new, y=y_train_one_hot, validation_data=(X_val, y_val_one_hot),epochs=50,batch_size=10,verbose=1)"
      ],
      "metadata": {
        "id": "wUIn3fnPPqdZ"
      },
      "execution_count": null,
      "outputs": []
    },
    {
      "cell_type": "code",
      "source": [
        "#ResNet50V2"
      ],
      "metadata": {
        "id": "p8QDoebmYwax"
      },
      "execution_count": null,
      "outputs": []
    },
    {
      "cell_type": "code",
      "source": [
        "base_model = ResNet50V2(weights=\"imagenet\", include_top=False, input_shape=(224,224,3))\n",
        "\n",
        "for layer in base_model.layers[:-10]:\n",
        "  layer.trainable = False\n",
        "\n",
        "x = base_model.output\n",
        "x = GlobalAveragePooling2D()(x)\n",
        "x = Dropout(0.5)(x)\n",
        "\n",
        "x = Dense(1024, activation=\"relu\")(x)\n",
        "predictions = Dense(18, activation=\"softmax\")(x)\n",
        "model = Model(inputs=base_model.input, outputs=predictions)\n",
        "\n",
        "\n",
        "model.compile(optimizer=Adam(learning_rate=0.0001),\n",
        "              loss='sparse_categorical_crossentropy',\n",
        "              metrics=['accuracy', 'AUC', 'Precision', 'Recall', 'F1Score'])"
      ],
      "metadata": {
        "id": "wt0Urh--Q0ht"
      },
      "execution_count": null,
      "outputs": []
    },
    {
      "cell_type": "code",
      "source": [
        "with tf.device('/GPU:0'):\n",
        "  history1 = model.fit(X_train, y_train_one_hot, validation_data = (X_val_new, y_val_one_hot), epochs = 20, batch_size = 8, verbose = 1)"
      ],
      "metadata": {
        "id": "8SU40epZS73K"
      },
      "execution_count": null,
      "outputs": []
    },
    {
      "cell_type": "code",
      "source": [
        "#DenseNet169 with growth rate"
      ],
      "metadata": {
        "id": "f7bbxcLkY0-q"
      },
      "execution_count": null,
      "outputs": []
    },
    {
      "cell_type": "code",
      "source": [
        "base_model = DenseNet169(weights=\"imagenet\", include_top=False, input_shape=(224,224,3))\n",
        "\n",
        "for layer in base_model.layers[:-20]:\n",
        "  layer.trainable = False\n",
        "\n",
        "x = base_model.output\n",
        "\n",
        "x = Dense(256, activation=\"relu\")(x)\n",
        "x = Dropout(0.5)(x)\n",
        "growth_rate = 16\n",
        "def dense_block(x, filters):\n",
        "  for _ in range(4):\n",
        "    y = BatchNormalization()(x)\n",
        "    y = ReLU()(y)\n",
        "    y = Conv2D(filters, kernel_size=3, padding=\"same\")(y)\n",
        "    x = concatenate([x, y])\n",
        "    filters += growth_rate\n",
        "  return x\n",
        "\n",
        "x = dense_block(x, 32)\n",
        "x = dense_block(x, 64)\n",
        "\n",
        "x = GlobalAveragePooling2D()(x)\n",
        "x = Dropout(0.5)(x)\n",
        "predictions = Dense(18, activation=\"softmax\")(x)\n",
        "model = Model(inputs=base_model.input, outputs=predictions)\n",
        "\n",
        "model.compile(optimizer=\"adam\", loss=\"categorical_crossentropy\", metrics=[\"accuracy\"])\n"
      ],
      "metadata": {
        "id": "bdn0pC3GeDuE"
      },
      "execution_count": null,
      "outputs": []
    },
    {
      "cell_type": "code",
      "source": [
        "from keras.callbacks import ModelCheckpoint, EarlyStopping\n",
        "early = EarlyStopping(monitor='val_acc', min_delta=0, patience=10, verbose=1, mode='auto')\n",
        "with tf.device('/GPU:0'):\n",
        "  history1 = model.fit(x =X_train_new, y= y_train_one_hot , validation_data=(X_val,y_val_one_hot), epochs=50, batch_size=10,  verbose=1, callbacks=[early])"
      ],
      "metadata": {
        "id": "Qtn9bMfOHV0V"
      },
      "execution_count": null,
      "outputs": []
    },
    {
      "cell_type": "code",
      "source": [
        "#DENSENET169 WITH TIMESERIES SEQUENCE"
      ],
      "metadata": {
        "id": "jfcpJh1QZeDJ"
      },
      "execution_count": null,
      "outputs": []
    },
    {
      "cell_type": "code",
      "source": [
        "length = 5\n",
        "batch_size = 4\n",
        "from keras.preprocessing.sequence import TimeseriesGenerator\n",
        "train_sequences = TimeseriesGenerator(X_train_new, y_train_one_hot, length=length, batch_size=batch_size)\n",
        "test_sequences = TimeseriesGenerator(X_val_new, y_val_one_hot, length=length, batch_size=batch_size)"
      ],
      "metadata": {
        "id": "N8Yto6Hi7BX0"
      },
      "execution_count": null,
      "outputs": []
    },
    {
      "cell_type": "code",
      "source": [
        "# Load pre-trained DenseNet model without the top layer\n",
        "DenseNet_model = tf.keras.applications.DenseNet169(include_top=False, weights='imagenet', input_shape=(224, 224, 3))\n",
        "\n",
        "for layer in DenseNet_model.layers[:-10]:\n",
        "  layer.trainable = False\n",
        "\n",
        "model = Sequential()\n",
        "model.add(TimeDistributed(DenseNet_model, input_shape=(5, 224, 224, 3)))\n",
        "model.add(TimeDistributed(Flatten()))\n",
        "model.add(TimeDistributed(Dropout(0.5)))\n",
        "model.add(GlobalAveragePooling1D(name=\"GlobalAveragePooling1D\"))\n",
        "model.add(BatchNormalization(name=\"BatchNormalization\"))\n",
        "model.add(Dropout(0.5))\n",
        "\n",
        "model.add(Dense(1024, activation=\"relu\"))\n",
        "model.add(Dense(18, activation=\"softmax\"))\n",
        "\n",
        "model.compile(optimizer = SGD(learning_rate=0.00001), loss = \"categorical_crossentropy\" ,\n",
        "              metrics = ['accuracy', 'AUC','F1Score','Recall', 'Precision'])\n",
        "model.summary()"
      ],
      "metadata": {
        "id": "Xi_UaItLDyNF"
      },
      "execution_count": null,
      "outputs": []
    },
    {
      "cell_type": "code",
      "source": [
        "from keras.callbacks import ModelCheckpoint, EarlyStopping\n",
        "early = EarlyStopping(monitor='val_acc', min_delta=0, patience=10, verbose=1, mode='auto')\n",
        "with tf.device('/GPU:0'):\n",
        "  hist = model.fit(train_sequences,validation_data = test_sequences,epochs=10,callbacks=[early])"
      ],
      "metadata": {
        "id": "Kil8Ju6EeAoe"
      },
      "execution_count": null,
      "outputs": []
    },
    {
      "cell_type": "code",
      "source": [
        "from sklearn.preprocessing import OneHotEncoder\n",
        "\n",
        "encoder = OneHotEncoder(sparse_output=False)\n",
        "y_train_all_one_hot = encoder.fit_transform(y_train.values.reshape(-1, 1))\n",
        "y_val_all_one_hot = encoder.fit_transform(y_val.values.reshape(-1, 1))"
      ],
      "metadata": {
        "id": "PYPivdGek0t5"
      },
      "execution_count": null,
      "outputs": []
    },
    {
      "cell_type": "code",
      "source": [
        "#VGG16"
      ],
      "metadata": {
        "id": "-2Vn-PDxZk3I"
      },
      "execution_count": null,
      "outputs": []
    },
    {
      "cell_type": "code",
      "source": [
        "base_model = VGG16(weights=\"imagenet\", include_top=False, input_shape=(224, 224, 3))\n",
        "for layer in base_model.layers[:-8]:\n",
        "  layer.trainable = False\n",
        "x = base_model.output\n",
        "x = Conv2D(filters=256, kernel_size=3, activation=\"relu\", padding=\"same\")(x)\n",
        "x = Conv2D(filters=512, kernel_size=3, activation=\"relu\", padding=\"same\")(x)\n",
        "x = Dropout(0.5)(x)\n",
        "x = Flatten()(x)\n",
        "x = Dense(units=1024, activation=\"relu\")(x)\n",
        "x = Dense(units=512, activation=\"relu\")(x)\n",
        "\n",
        "x = Dropout(0.5)(x)\n",
        "predictions = Dense(18, activation=\"softmax\")(x)\n",
        "\n",
        "model = Model(inputs=base_model.input, outputs=predictions)\n",
        "model.compile(optimizer=\"adam\", loss=\"categorical_crossentropy\", metrics=['accuracy', 'AUC', 'Precision', 'Recall', 'F1Score'])\n"
      ],
      "metadata": {
        "id": "MRySuZBBnKzV",
        "colab": {
          "base_uri": "https://localhost:8080/"
        },
        "collapsed": true,
        "outputId": "44b736c8-efba-411f-8408-cf68a2ab5999"
      },
      "execution_count": null,
      "outputs": [
        {
          "output_type": "stream",
          "name": "stdout",
          "text": [
            "Downloading data from https://storage.googleapis.com/tensorflow/keras-applications/vgg16/vgg16_weights_tf_dim_ordering_tf_kernels_notop.h5\n",
            "58889256/58889256 [==============================] - 0s 0us/step\n"
          ]
        }
      ]
    },
    {
      "cell_type": "code",
      "source": [
        "model.summary()"
      ],
      "metadata": {
        "id": "gMeNfcI9NhDA"
      },
      "execution_count": null,
      "outputs": []
    },
    {
      "cell_type": "code",
      "source": [
        "from keras.callbacks import ModelCheckpoint, EarlyStopping\n",
        "# checkpoint = ModelCheckpoint(\"vgg16_1.h5\", monitor='val_acc', verbose=1, save_best_only=True, save_weights_only=False, mode='auto', period=1)\n",
        "early = EarlyStopping(monitor='val_acc', min_delta=0, patience=20, verbose=1, mode='auto')\n",
        "with tf.device('/GPU:0'):\n",
        "    history1 = model.fit(x=X_train_final, y=y_train_all_one_hot, validation_data=(X_val_final, y_val_all_one_hot),epochs=50,batch_size=10,verbose=1)"
      ],
      "metadata": {
        "id": "bZ8JNXhGPT6P"
      },
      "execution_count": null,
      "outputs": []
    },
    {
      "cell_type": "code",
      "source": [
        "history_dict = hist.history1\n",
        "columns = ['Train Loss','Train Accuracy',\t'Train Precision','Train Recall','Train F1-Score','Validation Loss','Validation Accuracy','Validation Precision',\t'Validation Recall',\t'Validation F1-Score']\n",
        "history_data = pd.Data_Frame(history_dict, columns= columns)\n",
        "history_data = history_data.insert(loc=0, column='Epoch', value=range(1,len(hist)+1))\n",
        "history_data.to_csv('/content/drive/MyDrive/data/history1.csv')"
      ],
      "metadata": {
        "id": "qE1ed3ebP0nR"
      },
      "execution_count": null,
      "outputs": []
    },
    {
      "cell_type": "code",
      "source": [
        "history_data = pd.read_csv('/content/drive/MyDrive/data/history1.csv')"
      ],
      "metadata": {
        "id": "FD-VVbOlQv66"
      },
      "execution_count": null,
      "outputs": []
    },
    {
      "cell_type": "code",
      "source": [
        "df = history_data\n",
        "sns.set_style(\"whitegrid\")\n",
        "sns.lineplot(data=df, x= 'Epoch', y= 'Train Accuracy', label='Train' )\n",
        "sns.lineplot(data=df, x= 'Epoch', y= 'Validation Accuracy', label='Validation' )\n",
        "# plt.legend(labels=[\"A\", \"B\"])\n",
        "plt.title('Model Accuracy')\n",
        "plt.ylabel(\"Accuaracy\")\n",
        "plt.savefig(\"/content/drive/MyDrive/data/accurac.png\")\n",
        "plt.show()"
      ],
      "metadata": {
        "id": "PhoRPnDXQ2m1"
      },
      "execution_count": null,
      "outputs": []
    },
    {
      "cell_type": "code",
      "source": [
        "sns.set_style(\"whitegrid\")\n",
        "sns.lineplot(data=df, x= 'Epoch', y= 'Train Loss', label='Train' )\n",
        "sns.lineplot(data=df, x= 'Epoch', y= 'Validation Loss', label='Validation' )\n",
        "# plt.legend(labels=[\"A\", \"B\"])\n",
        "plt.title('Model Loss')\n",
        "plt.ylabel(\"loss\")\n",
        "plt.savefig(\"/content/drive/MyDrive/data/loss.png\")\n",
        "plt.show()"
      ],
      "metadata": {
        "id": "oMG-eNtIQ5mZ"
      },
      "execution_count": null,
      "outputs": []
    },
    {
      "cell_type": "code",
      "source": [
        "sns.lineplot(data=df, x= 'Epoch', y= 'Train Precision', label='Train' )\n",
        "sns.lineplot(data=df, x= 'Epoch', y= 'Validation Precision', label='Validation' )\n",
        "# plt.legend(labels=[\"A\", \"B\"])\n",
        "plt.ylabel(\"Precision\")\n",
        "plt.title('Model Precision')\n",
        "plt.savefig(\"/content/drive/MyDrive/data/precision.png\")\n",
        "plt.show()"
      ],
      "metadata": {
        "id": "lZDopz42Q818"
      },
      "execution_count": null,
      "outputs": []
    },
    {
      "cell_type": "code",
      "source": [
        "sns.lineplot(data=df, x= 'Epoch', y= 'Train Recall', label='Train' )\n",
        "sns.lineplot(data=df, x= 'Epoch', y= 'Validation Recall', label='Validation' )\n",
        "# plt.legend(labels=[\"A\", \"B\"])\n",
        "plt.ylabel(\"Recall\")\n",
        "plt.title('Model Recall')\n",
        "# plt.savefig(\"/content/drive/MyDrive/data/recall.png\")\n",
        "plt.show()"
      ],
      "metadata": {
        "id": "gStWNryFQ-gF"
      },
      "execution_count": null,
      "outputs": []
    },
    {
      "cell_type": "code",
      "source": [
        "sns.lineplot(data=df, x= 'Epoch', y= 'Train F1-Score', label='Train' )\n",
        "sns.lineplot(data=df, x= 'Epoch', y= 'Validation F1-Score', label='Validation' )\n",
        "# plt.legend(labels=[\"A\", \"B\"])\n",
        "plt.title('Model F1-Score')\n",
        "#plt.ylabel(\"F1Score\")\n",
        "plt.savefig(\"/content/drive/MyDrive/data/F1score.png\")\n",
        "plt.show()"
      ],
      "metadata": {
        "id": "rAThQiHWRCEh"
      },
      "execution_count": null,
      "outputs": []
    },
    {
      "cell_type": "code",
      "source": [
        "#MAKEING PREDICTION WITH VGG16"
      ],
      "metadata": {
        "id": "8BH6r4GFZrgH"
      },
      "execution_count": null,
      "outputs": []
    },
    {
      "cell_type": "code",
      "source": [
        "test_set = np.load('/content/drive/MyDrive/data/test.npy', mmap_mode = 'r')\n",
        "y_test = pd.read_csv('/content/drive/MyDrive/data/test.csv')\n",
        "y_test =np.array(y_test.iloc[:,2])\n",
        "y_pred =np.array([])\n",
        "for i in test_set:\n",
        "  predictions = model.predict(np.expand_dims(i, axis=0))\n",
        "  predicted_labels = np.argmax(predictions, axis=1)\n",
        "  label = predicted_labels[0]\n",
        "  if label >= 11:\n",
        "    print(label+1)\n",
        "    y_pred = np.append(y_pred, label+1)\n",
        "  else:\n",
        "    y_pred = np.append(y_pred, label)"
      ],
      "metadata": {
        "id": "lbEfdi6_RFxd"
      },
      "execution_count": null,
      "outputs": []
    },
    {
      "cell_type": "code",
      "source": [
        "from sklearn.metrics import ConfusionMatrixDisplay\n",
        "from sklearn.metrics import confusion_matrix\n",
        "\n",
        "labels = [\"Nucleoplasm\",\n",
        "                    \"Nuclear membrane\",\n",
        "                    \"Nucleoli\",\n",
        "                    \"Nucleoli fibrillar center\",\n",
        "                    \"Nuclear speckles\",\n",
        "                    \"Nuclear bodies\",\n",
        "                    \"Endoplasmic reticulum\",\n",
        "                    \"Golgi apparatus\",\n",
        "                    \"Intermediate filaments\",\n",
        "                    \"Actin filaments\",\n",
        "                    \"Microtubules\",\n",
        "                    \"Centrosome\",\n",
        "                    \"Plasma membrane\",\n",
        "                    \"Mitochondria\",\n",
        "                    \"Aggresome\",\n",
        "                    \"Cytosol\",\n",
        "                    \"Vesicles and punctate cytosolic patterns\",\n",
        "                    \"Negative\"]\n",
        "cm = confusion_matrix(y_test, y_pred)\n",
        "\n",
        "# Plot heatmap\n",
        "sns.heatmap(cm, xticklabels=columns, yticklabels=columns, cmap=plt.cm.Blues)\n",
        "plt.savefig(\"/content/drive/MyDrive/data/CONF_MAT.png\", bbox_inches = 'tight')\n",
        "plt.show()"
      ],
      "metadata": {
        "id": "novDLjWxRHjW"
      },
      "execution_count": null,
      "outputs": []
    },
    {
      "cell_type": "code",
      "source": [
        "import matplotlib.pyplot as plt\n",
        "import cv2\n",
        "fig = plt.figure(figsize=(10, 7))\n",
        "fig.add_subplot(2, 2, 1)\n",
        "plt.imshow(cv2.cvtColor(X_test[0], cv2.COLOR_BGR2RGB ))\n",
        "plt.axis('off')\n",
        "plt.title(f\"Actual {labels[y_test[0]]}\\n Predicted {labels[y_pred[0]]}\")\n",
        "\n",
        "fig.add_subplot(2, 2, 2)\n",
        "plt.imshow(cv2.cvtColor(X_test[1], cv2.COLOR_BGR2RGB ))\n",
        "plt.title(f\"Actual {labels[y_test[1]]}\\n Predicted {labels[y_pred[1]]}\")\n",
        "plt.axis('off')\n",
        "\n",
        "fig = plt.figure(figsize=(10, 7))\n",
        "fig.add_subplot(2, 2, 3)\n",
        "plt.imshow(cv2.cvtColor(X_test[3], cv2.COLOR_BGR2RGB ))\n",
        "plt.title(f\"Actual {labels[y_test[3]]}\\n Predicted {labels[y_pred[3]]}\")\n",
        "plt.axis('off')\n",
        "\n",
        "fig.add_subplot(2, 2, 4)\n",
        "plt.imshow(cv2.cvtColor(X_test[4], cv2.COLOR_BGR2RGB ))\n",
        "plt.title(f\"Actual {labels[y_test[4]]}\\n Predicted {labels[y_pred[4]]}\")\n",
        "plt.axis('off')"
      ],
      "metadata": {
        "id": "gkW61q_HR7BQ"
      },
      "execution_count": null,
      "outputs": []
    },
    {
      "cell_type": "code",
      "source": [],
      "metadata": {
        "id": "s9EhDyoYSfTS"
      },
      "execution_count": null,
      "outputs": []
    }
  ],
  "metadata": {
    "colab": {
      "provenance": [],
      "gpuType": "T4"
    },
    "kernelspec": {
      "display_name": "Python 3",
      "name": "python3"
    },
    "language_info": {
      "name": "python"
    },
    "accelerator": "GPU"
  },
  "nbformat": 4,
  "nbformat_minor": 0
}